{
 "cells": [
  {
   "cell_type": "code",
   "execution_count": null,
   "id": "infrared-polish",
   "metadata": {},
   "outputs": [],
   "source": [
    "%matplotlib inline\n",
    "from rdkit import Chem\n",
    "from rdkit.Chem import AllChem\n",
    "import nglview\n",
    "import csv\n",
    "import numpy as np\n",
    "import matplotlib.pyplot as plt"
   ]
  },
  {
   "cell_type": "markdown",
   "id": "7042051a",
   "metadata": {
    "tags": []
   },
   "source": [
    "### As a starting point, you have been given a list of molecules in SMILES format containing compounds taken from the WHO (World Health Organization) Essential Medicine List. \n",
    "\n",
    "Many, but not all of the essential medicines are small molecules. Roughly speaking, a small molecule is a molecule of relatively low molecular weight - a commonly cited value is < 900 daltons - in order to distinguish them from larger molecules such as proteins and polymers.\n",
    "\n",
    "`WHO_EML_SMILES.csv` is a text file, where on each line there are two values separated by a comma. The first value is the name of the drug and the second value contains the 2D molecular structure in SMILES format. These SMILES strings were generated as part of a [research paper](https://doi.org/10.1039/C9RE00348G) and kindly provided by the authors, Klavs Jensen and Hanyu Gao.\n",
    "\n",
    "We will begin by using the `csv` module to read in the file. As we can see here, the csv.reader function returns an iterable object containing the contents of the file."
   ]
  },
  {
   "cell_type": "code",
   "execution_count": null,
   "id": "376ee787",
   "metadata": {},
   "outputs": [],
   "source": [
    "with open('WHO_EML_SMILES.csv') as csv_file:\n",
    "    reader = csv.reader(csv_file)\n",
    "    for line in reader:\n",
    "        print(line)"
   ]
  },
  {
   "cell_type": "markdown",
   "id": "9912b4fb",
   "metadata": {},
   "source": [
    "Take abacavir for example, the first line in the file. This is a medication used to treat HIV/AIDS. To start working with this molecule, we could build the structure in Avogadro, but a more systematic way would be to create a molecule object directly from the SMILES string.  The RDKit toolkit allows us to do this."
   ]
  },
  {
   "cell_type": "code",
   "execution_count": null,
   "id": "static-expert",
   "metadata": {},
   "outputs": [],
   "source": [
    "# Generate an RDKit molecule object from a SMILES string.\n",
    "# The example uses abacavir taken from the above printout.\n",
    "m1 = Chem.MolFromSmiles('Nc1nc(NC2CC2)c3ncn([C@@H]4C[C@H](CO)C=C4)c3n1')"
   ]
  },
  {
   "cell_type": "code",
   "execution_count": null,
   "id": "parallel-symbol",
   "metadata": {},
   "outputs": [],
   "source": [
    "# This is how the RDKit molecule object is represented - as a 2D drawing.\n",
    "m1"
   ]
  },
  {
   "cell_type": "code",
   "execution_count": null,
   "id": "opposed-presentation",
   "metadata": {},
   "outputs": [],
   "source": [
    "# Starting from SMILES, there are no 3-D coordinates and they need to be generated.\n",
    "# This is how RDKit generates 3-D conformers for a molecule.\n",
    "# Under the hood, it uses a method called ETDKG to do this.\n",
    "AllChem.EmbedMolecule(m1)"
   ]
  },
  {
   "cell_type": "code",
   "execution_count": null,
   "id": "looking-nebraska",
   "metadata": {},
   "outputs": [],
   "source": [
    "# Now we can print out the 3D coordinates. Note that hydrogen atoms are missing.\n",
    "print(Chem.MolToXYZBlock(m1))"
   ]
  },
  {
   "cell_type": "code",
   "execution_count": null,
   "id": "settled-coral",
   "metadata": {},
   "outputs": [],
   "source": [
    "# nglview has a nice tool for allowing us to view the 3D coordinates as well.\n",
    "nglview.show_rdkit(m1)"
   ]
  },
  {
   "cell_type": "code",
   "execution_count": null,
   "id": "thousand-diary",
   "metadata": {},
   "outputs": [],
   "source": [
    "# Note that the structure has no hydrogens. This will interfere with quantum calcs\n",
    "# and possibly even with conformer generation (though it didn't this time).\n",
    "# Hydrogens need to be added explicitly to a structure in RDKit.\n",
    "m1h = Chem.AddHs(m1)\n",
    "m1h"
   ]
  },
  {
   "cell_type": "code",
   "execution_count": null,
   "id": "owned-viking",
   "metadata": {},
   "outputs": [],
   "source": [
    "# The 2D structure doesn't make sense but that's because we need to re-run the conformer generation\n",
    "# to place the hydrogen atoms in the right places. In the future, you could run the \"Chem.AddHs()\"\n",
    "# immediately after creating the molecule from SMILES.\n",
    "AllChem.EmbedMolecule(m1h)\n",
    "m1h"
   ]
  },
  {
   "cell_type": "code",
   "execution_count": null,
   "id": "adult-maximum",
   "metadata": {},
   "outputs": [],
   "source": [
    "# Ah, much better\n",
    "print(Chem.MolToXYZBlock(m1h))\n",
    "nglview.show_rdkit(m1h)"
   ]
  },
  {
   "cell_type": "markdown",
   "id": "5731a70b",
   "metadata": {},
   "source": [
    "The power of cheminformatic tools becomes apparent when you want to work with big batches of molecules. For example we can create RDKit molecule objects from each molecule in the file:"
   ]
  },
  {
   "cell_type": "code",
   "execution_count": null,
   "id": "e7896d0f",
   "metadata": {},
   "outputs": [],
   "source": [
    "WHO_Molecules = {}\n",
    "with open('WHO_EML_SMILES.csv') as csv_file:\n",
    "    reader = csv.reader(csv_file)\n",
    "    for line in reader:\n",
    "        key = line[0]\n",
    "        smi = line[1]\n",
    "        WHO_Molecules[key] = Chem.MolFromSmiles(smi)"
   ]
  },
  {
   "cell_type": "markdown",
   "id": "47bc73cb",
   "metadata": {},
   "source": [
    "Running the above command produced a few warnings for me, which is to be expected when working with large datasets, but there were no errors."
   ]
  },
  {
   "cell_type": "markdown",
   "id": "bb6a50fa",
   "metadata": {},
   "source": [
    "Now that we have a list of Molecule objects, we could calculate some properties.  For example, let's calculate the molecular weight of all the compounds and make a histogram.  The correct API call to use can be obtained by Google searching \"rdkit molecular weight\". It gives us a function `rdkit.Chem.Descriptors.ExactMolWt` which takes a molecule object as input."
   ]
  },
  {
   "cell_type": "code",
   "execution_count": null,
   "id": "necessary-deputy",
   "metadata": {},
   "outputs": [],
   "source": [
    "# For reasons unknown, we had to important ExactMolWt explicitly.\n",
    "from rdkit.Chem.Descriptors import ExactMolWt\n",
    "MolWts = []\n",
    "for molname, molobj in WHO_Molecules.items():\n",
    "    MolWts.append(ExactMolWt(molobj))\n",
    "plt.hist(MolWts)"
   ]
  },
  {
   "cell_type": "markdown",
   "id": "f38d6cd1",
   "metadata": {},
   "source": [
    "The above histogram was somewhat useful but we didn't get much info on the distribution of molecular weights other than that they are mostly under 1000.  Apparently the list also contains just a few molecules with even larger weights.  How about we plot a histogram with just the weights under 1000?"
   ]
  },
  {
   "cell_type": "code",
   "execution_count": null,
   "id": "thorough-reform",
   "metadata": {},
   "outputs": [],
   "source": [
    "MolWts = np.array(MolWts)\n",
    "plt.hist(MolWts[np.where(MolWts<1000)])"
   ]
  },
  {
   "cell_type": "markdown",
   "id": "ff621b91",
   "metadata": {},
   "source": [
    "Great, that's a bit more informative.  We could also count the number of carbon atoms in each molecule and see if it's correlated with the molecular weight. After a bit of experimentation I figured out how to get the atomic symbols for an example molecule:"
   ]
  },
  {
   "cell_type": "code",
   "execution_count": null,
   "id": "physical-delta",
   "metadata": {},
   "outputs": [],
   "source": [
    "mol_a = WHO_Molecules['abacavir']\n",
    "for atom in mol_a.GetAtoms():\n",
    "    print(atom.GetSymbol())"
   ]
  },
  {
   "cell_type": "code",
   "execution_count": null,
   "id": "81d21e78",
   "metadata": {},
   "outputs": [],
   "source": [
    "# In Python 3.6 onwards (we are using 3.7 I think), dictionary keys are ordered.\n",
    "# In past versions and possibly other Python implementations, the keys may not be ordered.\n",
    "# Therefore, it is a good idea to make a sorted list of keys before making element-wise\n",
    "# comparisons between properties.\n",
    "NumCarbons = []\n",
    "MolWts = []\n",
    "MolNames = sorted(list(WHO_Molecules.keys()))\n",
    "for molname in MolNames:\n",
    "    molobj = WHO_Molecules[molname]\n",
    "    MolWts.append(ExactMolWt(molobj))\n",
    "    num_C = 0\n",
    "    for atom in molobj.GetAtoms():\n",
    "        if atom.GetSymbol() == 'C':\n",
    "            num_C += 1\n",
    "    NumCarbons.append(num_C)\n",
    "plt.scatter(MolWts, NumCarbons)\n",
    "# I set the plot limits to focus on the MW < 1000 molecules.\n",
    "plt.xlim(0, 1000)\n",
    "plt.ylim(-2, 50)"
   ]
  },
  {
   "cell_type": "markdown",
   "id": "b08435bd",
   "metadata": {},
   "source": [
    "### So far, we have only worked on the SMILES strings. Now let's see how we can incorporate some experimental data. \n",
    "\n",
    "There are lots of kinds of experimental data, and here we will show how to get some crystal structures into the notebook.  This will require doing some work outside of the notebook as well.\n",
    "\n",
    "First, pick a SMILES string of interest. We will look at clomipramine, whose SMILES string is CN(C)CCCN1c2ccccc2CCc3ccc(Cl)cc13 .  You can get the SMILES strings from the .csv file either by opening it directly as a spreadsheet in Excel or other software, or by printing the keys of the `WHO_Molecules` dictionary from above.\n",
    "\n",
    "Connect to \"CCDC Access Structures\" at the link: https://www.ccdc.cam.ac.uk/structures/ .  Make sure you are on campus or using the [library VPN](https://www.library.ucdavis.edu/service/connect-from-off-campus/), otherwise you will hit a paywall at the next step.  \n",
    "\n",
    "![Structure search](https://i.imgur.com/dkbIz0t.png)\n",
    "\n",
    "Click on the \"Structure Search\" tab.  Click the \"Advanced ↓\" button at the lower left.  Click the \"Substructure\" radio button next to \"Match condition:\", and paste the SMILES string for your molecule into the box that says SMARTS.  (SMARTS is a language for searching for molecular structures, and generally a SMILES string is a valid SMARTS string).  You might get an error for SMILES strings that contain \"@\" characters that specify stereochemistry.  In these cases, remove the \"@\" signs from your string using a text editor, or a command line tool such as sed.\n",
    "\n",
    "![Search results](https://i.imgur.com/q1k4J2Z.png)\n",
    "\n",
    "After the search, you should see several results pop up.  Crystal structues often contain more than just the molecule of interest.  For example, the first entry that popped up in my search, which had the identifier BUXKIR, had the molecule of interest inside of a cyclodextrin ring.  Some molecules may be similar but not identical to the molecule you're searching for.  Look for a structure where the details include the name of the drug.  For example, CIMPRA lists \"Chlorimipramine hydrochloride\" under Synonyms, and a quick Wikipedia search shows that Chlorimipramine and clomipramine are synonymous.  That should be close enough for us.  Download the CIF file to your hard drive by clicking Download -> Download Current Entry.  Move the CIF file to the same folder where you have your notebook. \n",
    "\n",
    "Before you can load a structure into RDKit, another cheminformatic tool called OpenBabel is needed to convert the .cif file into a file format that RDKit can read (here we will use .mol2).  In the folder where you have your notebook and the .mol2 file, run OpenBabel in your terminal (not in the notebook!) as follows:\n",
    "\n",
    "```\n",
    "(che155) $ obabel -icif 1125716.cif -omol2 -O 1125716.mol2\n",
    "1 molecule converted\n",
    "```\n",
    "\n",
    "Now you should be able to load the .mol2 file into your notebook.  The default behavior is to remove hydrogen atoms from the structure, so we pass in the keyword argument to keep hydrogens ([see RDKit documentation](https://www.rdkit.org/docs/source/rdkit.Chem.rdmolfiles.html#rdkit.Chem.rdmolfiles.MolFromMol2File).)"
   ]
  },
  {
   "cell_type": "code",
   "execution_count": null,
   "id": "9ebbe8f7",
   "metadata": {},
   "outputs": [],
   "source": [
    "mol_exp = Chem.MolFromMol2File('1125716.mol2', removeHs=False)"
   ]
  },
  {
   "cell_type": "markdown",
   "id": "f2f61787",
   "metadata": {},
   "source": [
    "We can also use NGLView to show the 3D structure of the molecule here:"
   ]
  },
  {
   "cell_type": "code",
   "execution_count": null,
   "id": "4e8c2062",
   "metadata": {},
   "outputs": [],
   "source": [
    "nglview.show_rdkit(mol_exp)"
   ]
  },
  {
   "cell_type": "markdown",
   "id": "f920d8d5",
   "metadata": {},
   "source": [
    "An interesting question to ask is, how well does the computationally generated conformation agree with the experimental one?  This touches on the cutting-edge field of crystal structure prediction, which is very important to industry as well as basic science.\n",
    "\n",
    "To look at this, we can create another RDKit molecule object directly from the SMILES string with no additional experimental data, generate a number of conformers, and compare the results to the above.  The API call `AllChem.EmbedMultipleConfs` is how we ask RDKit to generate multiple conformers for a molecule ([see RDKit documentation](https://www.rdkit.org/docs/source/rdkit.Chem.rdDistGeom.html#rdkit.Chem.rdDistGeom.EmbedMultipleConfs).)"
   ]
  },
  {
   "cell_type": "code",
   "execution_count": null,
   "id": "40e9cde4",
   "metadata": {},
   "outputs": [],
   "source": [
    "mol_smi = Chem.MolFromSmiles('CN(C)CCCN1c2ccccc2CCc3ccc(Cl)cc13')\n",
    "mol_smi_h = AllChem.AddHs(mol_smi)\n",
    "# The random seed argument is added so that multiple runs will give the same result.\n",
    "AllChem.EmbedMultipleConfs(mol_smi_h, 10, randomSeed=8282)"
   ]
  },
  {
   "cell_type": "markdown",
   "id": "4ea45714",
   "metadata": {},
   "source": [
    "Using NGLView we can visualize each 3D conformation.  The keyword argument for controlling which conformer to show is `conf_id` (I figured this out using `help(nglview.show_rdkit)`).  I don't know whether it's possible change the conformer being viewed with a slider."
   ]
  },
  {
   "cell_type": "code",
   "execution_count": null,
   "id": "73a92c8c",
   "metadata": {
    "scrolled": true
   },
   "outputs": [],
   "source": [
    "nglview.show_rdkit(mol_smi_h, conf_id=3)"
   ]
  },
  {
   "cell_type": "markdown",
   "id": "ccc225e2",
   "metadata": {},
   "source": [
    "A powerful feature of RDKit is the ability to perform structure alignment.  This is a calculation in which the structures of two conformations are compared by applying a translation and rotation to one confomation, called the probe, in order to minimize the distances to a reference conformation.  After applying the rotation and translation, the remaining Euclidean distances between the atoms of the probe and reference structure are a measure of the \"internal\" structural differences due to differences in bond lengths, etc.  By taking the RMS of all the displacements for each atom, one can calculate the \"RMSD\" which is a single number that measures the difference between two structures.\n",
    "\n",
    "In order to rotate two structures to minimize the distances between corresponding atoms, both structures need to have the same atom ordering, which is actually not true for our experimental structure and the generated one.  What's more, the atoms of the probe and reference structure need to be the same, and this is not strictly true for our example either, because our experimental structure is actually a hydrochloride salt, containing an extra HCl that the generated structure doesn't have.  RDKit takes care of both of these problems by finding a substructure that the probe and reference structures have in common; the substructure matching also generates a mapping of the atom orderings between one structure and the other, so we are able to get a result without worryinng."
   ]
  },
  {
   "cell_type": "code",
   "execution_count": null,
   "id": "71e4c28e",
   "metadata": {},
   "outputs": [],
   "source": [
    "for i in range(mol_smi_h.GetNumConformers()):\n",
    "    print(Chem.rdMolAlign.AlignMol(mol_smi_h, mol_exp, i))"
   ]
  },
  {
   "cell_type": "markdown",
   "id": "42940a97",
   "metadata": {},
   "source": [
    "The interpretation of RMSD depends on the situation, but here we use a very rough rule of thumb that a RMSD value of 1 Angstrom or less indicates a high level of agreement for molecular structures.  Above we see that conformer number 6 has the best level of agreement with experiment.  Let's plot them together to look at how close the structures are.\n",
    "\n",
    "I'd prefer showing the generated conformer in a different color from the experiment, but I don't know how to get NGLView's API to do that.  Bonus points to anyone who manages to figure it out!"
   ]
  },
  {
   "cell_type": "code",
   "execution_count": null,
   "id": "1a3e684c",
   "metadata": {},
   "outputs": [],
   "source": [
    "view = nglview.show_rdkit(mol_smi_h, conf_id=6)\n",
    "view.add_component(mol_exp)\n",
    "view"
   ]
  }
 ],
 "metadata": {
  "kernelspec": {
   "display_name": "Python 3 (ipykernel)",
   "language": "python",
   "name": "python3"
  },
  "language_info": {
   "codemirror_mode": {
    "name": "ipython",
    "version": 3
   },
   "file_extension": ".py",
   "mimetype": "text/x-python",
   "name": "python",
   "nbconvert_exporter": "python",
   "pygments_lexer": "ipython3",
   "version": "3.9.13"
  }
 },
 "nbformat": 4,
 "nbformat_minor": 5
}
