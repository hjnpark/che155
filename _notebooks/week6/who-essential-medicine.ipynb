{
 "cells": [
  {
   "cell_type": "code",
   "execution_count": 1,
   "id": "infrared-polish",
   "metadata": {},
   "outputs": [
    {
     "data": {
      "application/vnd.jupyter.widget-view+json": {
       "model_id": "046ef295ccd94c259789bf5d6e965218",
       "version_major": 2,
       "version_minor": 0
      },
      "text/plain": []
     },
     "metadata": {},
     "output_type": "display_data"
    }
   ],
   "source": [
    "%matplotlib inline\n",
    "from rdkit import Chem\n",
    "from rdkit.Chem import AllChem\n",
    "import nglview\n",
    "import csv\n",
    "import numpy as np\n",
    "import matplotlib.pyplot as plt"
   ]
  },
  {
   "cell_type": "markdown",
   "id": "7042051a",
   "metadata": {},
   "source": [
    "### As a starting point, you have been given a list of molecules in SMILES format containing compounds taken from the WHO (World Health Organization) Essential Medicine List. \n",
    "\n",
    "Many, but not all of the essential medicines are small molecules. Roughly speaking, a small molecule is a molecule of relatively low molecular weight - a commonly cited value is < 900 daltons - in order to distinguish them from larger molecules such as proteins and polymers.\n",
    "\n",
    "`WHO_EML_SMILES.csv` is a text file, where on each line there are two values separated by a comma. The first value is the name of the drug and the second value contains the 2D molecular structure in SMILES format. These SMILES strings were generated as part of a [research paper](https://doi.org/10.1039/C9RE00348G) and kindly provided by the authors, Klavs Jensen and Hanyu Gao.\n",
    "\n",
    "We will begin by using the `csv` module to read in the file. As we can see here, the csv.reader function returns an iterable object containing the contents of the file."
   ]
  },
  {
   "cell_type": "code",
   "execution_count": 2,
   "id": "376ee787",
   "metadata": {},
   "outputs": [
    {
     "name": "stdout",
     "output_type": "stream",
     "text": [
      "['abacavir', 'Nc1nc(NC2CC2)c3ncn([C@@H]4C[C@H](CO)C=C4)c3n1']\n",
      "['acetazolamide', 'CC(=O)Nc1sc(nn1)[S](N)(=O)=O']\n",
      "['acetic acid', 'CC(O)=O']\n",
      "['acetylcysteine', 'CC(=O)N[C@@H](CS)C(O)=O']\n",
      "['acetylsalicylic acid', 'CC(=O)Oc1ccccc1C(O)=O']\n",
      "['aciclovir', 'NC1=NC(=O)c2ncn(COCCO)c2N1']\n",
      "['albendazole', 'CCCSc1ccc2nc(NC(=O)OC)[nH]c2c1']\n",
      "['allopurinol', 'O=C1N=CN=C2NNC=C12']\n",
      "['aluminium diacetate', '[Al++].CC([O-])=O.CC([O-])=O']\n",
      "['aluminium hydroxide', '[OH-].[OH-].[OH-].[Al+3]']\n",
      "['amidotrizoate', 'CC(=O)Nc1c(I)c(NC(C)=O)c(I)c(C(O)=O)c1I']\n",
      "['amikacin', 'NCC[C@H](O)C(=O)N[C@@H]1C[C@H](N)[C@@H](O[C@H]2O[C@H](CN)[C@@H](O)[C@H](O)[C@H]2O)[C@H](O)[C@H]1O[C@H]3O[C@H](CO)[C@@H](O)[C@H](N)[C@H]3O']\n",
      "['amiloride', 'NC(N)=NC(=O)c1nc(Cl)c(N)nc1N']\n",
      "['aminophylline', 'CN1C(=O)N(C)c2nc[nH]c2C1=O.CN3C(=O)N(C)c4nc[nH]c4C3=O.NCCN']\n",
      "['amiodarone', 'CCCCc1oc2ccccc2c1C(=O)c3cc(I)c(OCCN(CC)CC)c(I)c3']\n",
      "['amitriptyline', 'CN(C)CCC=C1c2ccccc2CCc3ccccc13']\n",
      "['amlodipine', 'CCOC(=O)C1=C(COCCN)NC(=C(C1c2ccccc2Cl)C(=O)OC)C']\n",
      "['amodiaquine', 'CCN(CC)Cc1cc(Nc2ccnc3cc(Cl)ccc23)ccc1O']\n",
      "['amoxicillin', 'O.O.O.CC1(C)S[C@@H]2[C@H](NC(=O)[C@H](N)c3ccc(O)cc3)C(=O)N2[C@H]1C(O)=O']\n",
      "['amphotericin B', 'C[C@H]1O[C@@H](O[C@@H]\\\\\\\\2C[C@@H]3O[C@](O)(C[C@@H](O)C[C@@H](O)[C@H](O)CC[C@@H](O)C[C@@H](O)CC(=O)O[C@@H](C)[C@H](C)[C@H](O)[C@@H](C)\\\\\\\\C=C/C=C\\\\\\\\C=C/C=C\\\\\\\\C=C/C=C\\\\\\\\C=C2)C[C@H](O)[C@H]3C(O)=O)[C@@H](O)[C@@H](N)[C@@H]1O']\n",
      "['ampicillin', 'CC1(C)S[C@@H]2[C@H](NC(=O)[C@H](N)c3ccccc3)C(=O)N2[C@H]1C(O)=O']\n",
      "['artemether', 'CO[C@H]1O[C@@H]2O[C@@]3(C)CC[C@H]4[C@H](C)CC[C@@H]([C@H]1C)[C@@]24OO3']\n",
      "['artesunate', 'C[C@@H]1CC[C@H]2[C@@H](C)[C@H](O[C@@H]3OC4(C)CC[C@@H]1[C@@]23OO4)OC(=O)CCC(O)=O']\n",
      "['ascorbic acid', 'OCC(O)C1OC(=C(O)C1=O)O']\n",
      "['atazanavir', 'COC(=O)N[C@H](C(=O)N[C@@H](Cc1ccccc1)[C@@H](O)CN(Cc2ccc(cc2)c3ccccn3)NC(=O)[C@@H](NC(=O)OC)C(C)(C)C)C(C)(C)C']\n",
      "['atenolol', 'CC(C)NCC(O)COc1ccc(CC(N)=O)cc1']\n",
      "['atracurium', 'COc1ccc(CC2c3cc(OC)c(OC)cc3CC[N+]2(C)CCC(=O)OCCCCCOC(=O)CC[N+]4(C)CCc5cc(OC)c(OC)cc5C4Cc6ccc(OC)c(OC)c6)cc1OC']\n",
      "['atropine', 'CN1C2CCC1CC(C2)OC(=O)C(CO)c3ccccc3']\n",
      "['azathioprine', 'Cn1cnc(c1Sc2ncnc3nc[nH]c23)[N+]([O-])=O']\n",
      "['azithromycin', 'CC[C@H]1OC(=O)[C@H](C)[C@@H](O[C@H]2C[C@@](C)(OC)[C@@H](O)[C@H](C)O2)C(C)[C@@H](O[C@@H]3O[C@H](C)C[C@@H]([C@H]3O)N(C)C)[C@](C)(O)C[C@@H](C)CN(C)[C@H](C)[C@@H](O)[C@]1(C)O']\n",
      "['bacitracin', 'CCC(C)C(N)C1=NC(CS1)C(=O)N[C@@H](CC(C)C)C(=O)N[C@H](CCC(O)=O)C(=O)N[C@@H]([C@@H](C)CC)C(=O)NCCCC[C@@H]2NC(=O)[C@H](CC(N)=O)NC(=O)[C@@H](CC(O)=O)NC(=O)[C@H](Cc3[nH]cnc3)NC(=O)[C@@H](Cc4ccccc4)NC(=O)[C@@H](NC(=O)[C@@H](CCCN)NC2=O)[C@@H](C)CC']\n",
      "['barium sulfate', '[Ba++].[O-][S]([O-])(=O)=O']\n",
      "['beclometasone', 'C[C@H]1C[C@H]2[C@@H]3CCC4=CC(=O)C=C[C@]4(C)[C@@]3(Cl)[C@@H](O)C[C@]2(C)[C@@]1(O)C(=O)CO']\n",
      "['benzathine benzylpenicillin', 'CC1(C)S[C@@H]2[C@H](NC(=O)Cc3ccccc3)C(=O)N2[C@H]1C(O)=O.CC4(C)S[C@@H]5[C@H](NC(=O)Cc6ccccc6)C(=O)N5[C@H]4C(O)=O.C(CNCc7ccccc7)NCc8ccccc8']\n",
      "['benznidazole', '[O-][N+](=O)c1nccn1CC(=O)NCc2ccccc2']\n",
      "['benzoic acid', 'OC(=O)c1ccccc1']\n",
      "['benzoyl peroxide', 'O=C(OOC(=O)c1ccccc1)c2ccccc2']\n",
      "['benzyl benzoate', 'O=C(OCc1ccccc1)c2ccccc2']\n",
      "['benzylpenicillin', 'CC1(C)S[C@@H]2[C@H](NC(=O)Cc3ccccc3)C(=O)N2[C@H]1C(O)=O']\n",
      "['betamethasone', 'C[C@H]1C[C@H]2[C@@H]3CCC4=CC(=O)C=C[C@]4(C)[C@@]3(F)[C@@H](O)C[C@]2(C)[C@@]1(O)C(=O)CO']\n",
      "['biperiden', 'OC(CCN1CCCCC1)(C2CC3CC2C=C3)c4ccccc4']\n",
      "['bisoprolol', 'CC(C)NCC(O)COc1ccc(COCCOC(C)C)cc1']\n",
      "['budesonide', 'CCCC1O[C@@H]2C[C@H]3[C@@H]4CCC5=CC(=O)C=C[C@]5(C)[C@H]4[C@@H](O)C[C@]3(C)[C@@]2(O1)C(=O)CO']\n",
      "['bupivacaine', 'CCCCN1CCCCC1C(=O)Nc2c(C)cccc2C']\n",
      "['caffeine citrate', 'Cn1cnc2N(C)C(=O)N(C)C(=O)c12.OC(=O)CC(O)(CC(O)=O)C(O)=O']\n",
      "['calcium carbonate', '[Ca++].[O-]C([O-])=O']\n",
      "['calcium folinate', '[Ca++].NC1=NC(=O)C2=C(NCC(CNc3ccc(cc3)C(=O)N[C@@H](CCC([O-])=O)C([O-])=O)N2C=O)N1']\n",
      "['calcium gluconate', '[Ca++].OC[C@@H](O)[C@@H](O)[C@H](O)[C@@H](O)C([O-])=O.OC[C@@H](O)[C@@H](O)[C@H](O)[C@@H](O)C([O-])=O']\n",
      "['capreomycin', 'C[C@@H]1NC(=O)[C@@H](N)CNC(=O)[C@@H](NC(=O)\\\\\\\\C(NC(=O)[C@H](CNC(=O)C[C@@H](N)CCCN)NC1=O)=C/NC(N)=O)[C@H]2CCN=C(N)N2.NCCC[C@H](N)CC(=O)NC[C@@H]3NC(=O)[C@H](CO)NC(=O)[C@@H](N)CNC(=O)[C@@H](NC(=O)\\\\\\\\C(NC3=O)=C/NC(N)=O)[C@H]4CCN=C(N)N4']\n",
      "['captopril', 'C[C@H](CS)C(=O)N1CCC[C@H]1C(O)=O']\n",
      "['carbamazepine', 'NC(=O)N1c2ccccc2C=Cc3ccccc13']\n",
      "['carbidopa', 'C[C@@](Cc1ccc(O)c(O)c1)(NN)C(O)=O']\n",
      "['Cefalexin', 'CC1=C(N2[C@H](SC1)[C@H](NC(=O)[C@H](N)c3ccccc3)C2=O)C(O)=O']\n",
      "['cefixime', 'Nc1scc(n1)\\\\\\\\C(=N\\\\\\\\OCC(O)=O)C(=O)N[C@H]2[C@H]3SCC(=C(N3C2=O)C(O)=O)C=C']\n",
      "['cefotaxime', '[Na+].CO\\\\\\\\N=C(C(=O)N[C@@H]1[C@@H]2SCC(=C(N2C1=O)C([O-])=O)COC(C)=O)\\\\\\\\c3csc(N)n3']\n",
      "['ceftazidime', 'CC(C)(O/N=C(C(=O)N[C@H]1[C@H]2SCC(=C(N2C1=O)C([O-])=O)C[n+]3ccccc3)/c4csc(N)n4)C(O)=O']\n",
      "['ceftriaxone', 'CO/N=C(C(=O)N[C@H]1[C@H]2SCC(=C(N2C1=O)C(O)=O)CSC3=NC(=O)C(=O)NN3C)/c4csc(N)n4']\n",
      "['chloral hydrate', 'OC(O)C(Cl)(Cl)Cl']\n",
      "['chlorambucil', 'OC(=O)CCCc1ccc(cc1)N(CCCl)CCCl']\n",
      "['chloramphenicol', 'OCC(NC(=O)C(Cl)Cl)C(O)c1ccc(cc1)[N+]([O-])=O']\n",
      "['chlorhexidine', 'NC(Nc1ccc(Cl)cc1)=NC(N)=NCCCCCCN=C(N)N=C(N)Nc2ccc(Cl)cc2']\n",
      "['chlormethine', 'CN(CCCl)CCCl']\n",
      "['chloroquine', 'CCN(CC)CCCC(C)Nc1ccnc2cc(Cl)ccc12']\n",
      "['chloroxylenol', 'Cc1ccc(Cl)c(O)c1C']\n",
      "['chlorphenamine', 'CN(C)CCC(c1ccc(Cl)cc1)c2ccccn2']\n",
      "['chlorpromazine', 'CN(C)CCCN1c2ccccc2Sc3ccc(Cl)cc13']\n",
      "['chlorthalidone', 'N[S](=O)(=O)c1cc(ccc1Cl)C2(O)NC(=O)c3ccccc23']\n",
      "['cholecalciferol', 'CC(C)CCC[C@@H](C)[C@H]1CC[C@H]2\\\\\\\\C(CCC[C@]12C)=C\\\\\\\\C=C3/C[C@@H](O)CCC3=C']\n",
      "['ciclosporin', 'CCC1NC(=O)C(C(O)C(C)C\\\\\\\\C=C\\\\\\\\C)N(C)C(=O)C(C(C)C)N(C)C(=O)C(CC(C)C)N(C)C(=O)C(CC(C)C)N(C)C(=O)C(C)NC(=O)C(C)NC(=O)C(CC(C)C)N(C)C(=O)C(NC(=O)C(CC(C)C)N(C)C(=O)CN(C)C1=O)C(C)C']\n",
      "['cilastatin', 'CC1(C)C[C@@H]1C(=O)NC(=C\\\\\\\\CCCCSC[C@@H](N)C(O)=O)/C(O)=O']\n",
      "['cimetidine', 'CN=C(NCCSCc1nc[nH]c1C)NC#N']\n",
      "['ciprofloxacin', 'OC(=O)C1=CN(C2CC2)c3cc(N4CCNCC4)c(F)cc3C1=O']\n",
      "['cisplatin', 'N.N.[Cl-].[Cl-].[Pt++]']\n",
      "['clarithromycin', 'CC[C@H]1OC(=O)[C@H](C)[C@@H](O[C@H]2C[C@@](C)(OC)[C@@H](O)[C@H](C)O2)[C@H](C)[C@@H](O[C@@H]3O[C@H](C)C[C@@H]([C@H]3O)N(C)C)[C@@](C)(C[C@@H](C)C(=O)[C@H](C)[C@@H](O)[C@]1(C)O)OC']\n",
      "['clavulanic acid', 'OC/C=C/1O[C@@H]2CC(=O)N2[C@H]1C(O)=O']\n",
      "['clindamycin', 'CCC[C@@H]1C[C@H](N(C)C1)C(=O)NC(C(C)Cl)[C@H]2O[C@H](SC)[C@H](O)[C@@H](O)[C@H]2O']\n",
      "['clofazimine', 'CC(C)N=C1C=C2N(c3ccc(Cl)cc3)c4ccccc4N=C2C=C1Nc5ccc(Cl)cc5']\n",
      "['clomifene', 'CCN(CC)CCOc1ccc(cc1)\\\\\\\\C(=C(Cl)\\\\\\\\c2ccccc2)c3ccccc3']\n",
      "['clomipramine', 'CN(C)CCCN1c2ccccc2CCc3ccc(Cl)cc13']\n",
      "['clonazepam', '[O-][N+](=O)c1ccc2NC(=O)CN=C(c3ccccc3Cl)c2c1']\n",
      "['clotrimazole', 'Clc1ccccc1C(n2ccnc2)(c3ccccc3)c4ccccc4']\n",
      "['cloxacillin', 'Cc1onc(c2ccccc2Cl)c1C(=O)N[C@H]3[C@H]4SC(C)(C)[C@@H](N4C3=O)C(O)=O']\n",
      "['codeine', 'COc1ccc2C[C@@H]3[C@@H]4C=C[C@H](O)[C@@H]5Oc1c2[C@]45CCN3C']\n",
      "['colchicine', 'COC1=CC=C2C(=CC1=O)[C@H](CCc3cc(OC)c(OC)c(OC)c23)NC(C)=O']\n",
      "['cromoglicic acid', 'OC(COc1ccc2OC(=CC(=O)c2c1)C(O)=O)COc3cccc4OC(=CC(=O)c34)C(O)=O']\n",
      "['cyclizine', 'CN1CCN(CC1)C(c2ccccc2)c3ccccc3']\n",
      "['cyclophosphamide', 'ClCCN(CCCl)[P]1(=O)NCCCO1']\n",
      "['cycloserine', 'NC1CONC1=O']\n",
      "['cytarabine', 'NC1=NC(=O)N(C=C1)[C@@H]2O[C@H](CO)[C@@H](O)[C@@H]2O']\n",
      "['dacarbazine', 'CN(C)N\\\\\\\\N=C/1N=CN=C1C(N)=O']\n",
      "['dactinomycin', 'CC(C)C1NC(=O)C(NC(=O)c2ccc(C)c3OC4=C(C)C(=O)C(=C(C(=O)NC5C(C)OC(=O)C(C(C)C)N(C)C(=O)CN(C)C(=O)C6CCCN6C(=O)C(NC5=O)C(C)C)C4=Nc23)N)C(C)OC(=O)C(C(C)C)N(C)C(=O)CN(C)C(=O)C7CCCN7C1=O']\n",
      "['dapsone', 'Nc1ccc(cc1)[S](=O)(=O)c2ccc(N)cc2']\n",
      "['daunorubicin', 'COc1cccc2C(=O)c3c(O)c4C[C@](O)(C[C@H](O[C@H]5C[C@H](N)[C@H](O)[C@H](C)O5)c4c(O)c3C(=O)c12)C(C)=O']\n",
      "['deferoxamine', 'CC(=O)N(O)CCCCCNC(=O)CCC(=O)N(O)CCCCCNC(=O)CCC(=O)N(O)CCCCCN']\n",
      "['dehydroemetine', 'CCC1=C(C[C@H]2NCCc3cc(OC)c(OC)cc23)C[C@@H]4N(CCc5cc(OC)c(OC)cc45)C1']\n",
      "['desmopressin', 'NC(=O)CCC1NC(=O)C(Cc2ccccc2)NC(=O)C(Cc3ccc(O)cc3)NC(=O)CCSSCC(NC(=O)C(CC(N)=O)NC1=O)C(=O)N4CCCC4C(=O)NC(CCCN=C(N)N)C(=O)NCC(N)=O']\n",
      "['dexamethasone', 'C[C@@H]1C[C@H]2[C@@H]3CCC4=CC(=O)C=C[C@]4(C)[C@@]3(F)[C@@H](O)C[C@]2(C)[C@@]1(O)C(=O)CO']\n",
      "['dextromethorphan', 'COc1ccc2C[C@H]3[C@H]4CCCC[C@@]4(CCN3C)c2c1']\n",
      "['diazepam', 'CN1C(=O)CN=C(c2ccccc2)c3cc(Cl)ccc13']\n",
      "['didanosine', 'OC[C@@H]1CC[C@@H](O1)n2cnc3C(=O)N=CNc23']\n",
      "['diethylcarbamazine', 'CCN(CC)C(=O)N1CCN(C)CC1']\n",
      "['digitoxin', 'C[C@H]1O[C@H](C[C@H](O)[C@@H]1O)O[C@H]2[C@@H](O)C[C@@H](O[C@@H]2C)O[C@H]3[C@@H](O)C[C@@H](O[C@@H]3C)O[C@H]4CC[C@@]5(C)[C@H](CC[C@@H]6[C@@H]5CC[C@]7(C)[C@@H](CC[C@]67O)C8=CC(=O)OC8)C4']\n",
      "['digoxin', 'C[C@H]1O[C@H](C[C@H](O)[C@@H]1O)O[C@H]2[C@@H](O)C[C@@H](O[C@@H]2C)O[C@H]3[C@@H](O)C[C@@H](O[C@@H]3C)O[C@H]4CC[C@@]5(C)[C@H](CC[C@@H]6[C@@H]5C[C@@H](O)[C@]7(C)[C@H](CC[C@]67O)C8=CC(=O)OC8)C4']\n",
      "['diloxanide', 'CN(C(=O)C(Cl)Cl)c1ccc(O)cc1']\n",
      "['dimercaprol', 'OCC(S)CS']\n",
      "['dithranol', 'Oc1cccc2Cc3cccc(O)c3C(=O)c12']\n",
      "['DL-methionine', 'CSCCC(N)C(O)=O']\n",
      "['docetaxel', 'CC(=O)O[C@@]12CO[C@@H]1C[C@H](O)[C@]3(C)[C@@H]2[C@H](OC(=O)c4ccccc4)[C@]5(O)C[C@H](OC(=O)[C@H](O)[C@@H](NC(=O)OC(C)(C)C)c6ccccc6)C(=C([C@@H](O)C3=O)C5(C)C)C']\n",
      "['docusate sodium', '[Na+].CCCCC(CC)COC(=O)CC(C(=O)OCC(CC)CCCC)[S]([O-])(=O)=O']\n",
      "['dopamine', 'NCCc1ccc(O)c(O)c1']\n",
      "['doxazosin', 'COc1cc2nc(nc(N)c2cc1OC)N3CCN(CC3)C(=O)C4COc5ccccc5O4']\n",
      "['doxorubicin', 'COc1cccc2C(=O)c3c(O)c4C[C@](O)(C[C@H](O[C@H]5C[C@H](N)[C@H](O)[C@H](C)O5)c4c(O)c3C(=O)c12)C(=O)CO']\n",
      "['doxycycline', 'O.C[C@@H]1[C@H]2[C@H](O)[C@H]3[C@H](N(C)C)C(=O)C(=C(N)/O)/C(=O)[C@@]3(O)C(=O)C2=C(O)c4c(O)cccc14']\n",
      "['efavirenz', 'FC(F)(F)[C@]1(OC(=O)Nc2ccc(Cl)cc12)C#CC3CC3']\n",
      "['eflornithine', 'NCCCC(N)(C(F)F)C(O)=O']\n",
      "['emetine', '[Cl].CC[C@H]1CN2CCc3cc(OC)c(OC)cc3[C@@H]2C[C@@H]1C[C@H]4NCCc5cc(OC)c(OC)cc45']\n",
      "['emtricitabine', 'NC1=NC(=O)N(C=C1F)[C@@H]2CS[C@H](CO)O2']\n",
      "['enalapril', 'CCOC(=O)[C@H](CCc1ccccc1)N[C@@H](C)C(=O)N2CCC[C@H]2C(O)=O']\n",
      "['ephedrine', 'CN[C@@H](C)[C@H](O)c1ccccc1']\n",
      "['epinephrine', 'CNC[C@H](O)c1ccc(O)c(O)c1']\n",
      "['ergocalciferol', 'CC(C)[C@@H](C)/C=C/[C@@H](C)[C@H]1CC[C@H]2\\\\\\\\C(CCC[C@]12C)=C\\\\\\\\C=C3/C[C@@H](O)CCC3=C']\n",
      "['ergometrine', 'C[C@@H](CO)NC(=O)[C@H]1CN(C)[C@@H]2Cc3c[nH]c4cccc(C2=C1)c34.OC(=O)\\\\\\\\C=C/C(O)=O']\n",
      "['ergotamine', 'CN1C[C@@H](C=C2[C@H]1Cc3c[nH]c4cccc2c34)C(=O)N[C@]5(C)O[C@@]6(O)[C@@H]7CCCN7C(=O)[C@H](Cc8ccccc8)N6C5=O']\n",
      "['erythromycin', 'CC[C@H]1OC(=O)[C@H](C)[C@@H](O[C@H]2C[C@@](C)(OC)[C@@H](O)[C@H](C)O2)[C@H](C)[C@@H](O[C@@H]3O[C@H](C)C[C@@H]([C@H]3O)N(C)C)[C@](C)(O)C[C@@H](C)C(=O)[C@H](C)[C@@H](O)[C@]1(C)O']\n",
      "['estradiol cypionate', 'C[C@]12CC[C@H]3[C@@H](CCc4cc(O)ccc34)[C@@H]1CC[C@@H]2OC(=O)CCC5CCCC5']\n",
      "['ethambutol', 'CC[C@@H](CO)NCCN[C@@H](CC)CO']\n",
      "['ethanol', 'CCO']\n",
      "['ethinylestradiol', 'C[C@]12CC[C@H]3[C@@H](CCc4cc(O)ccc34)[C@@H]1CC[C@@]2(O)C#C']\n",
      "['ethionamide', 'CCc1cc(ccn1)C(N)=S']\n",
      "['ethosuximide', 'CCC1(C)CC(=O)NC1=O']\n",
      "['etoposide', 'COc1cc(cc(OC)c1O)[C@H]2[C@@H]3C(COC3=O)[C@H](O[C@@H]4O[C@@H]5CO[C@@H](C)O[C@H]5[C@H](O)[C@H]4O)c6cc7OCOc7cc26']\n",
      "['fluconazole', 'OC(Cn1cncn1)(Cn2cncn2)c3ccc(F)cc3F']\n",
      "['flucytosine', 'NC1=C(F)C=NC(=O)N1']\n",
      "['fludrocortisone', 'C[C@]12C[C@H](O)[C@@]3(F)[C@@H](CCC4=CC(=O)CC[C@]34C)[C@@H]1CC[C@]2(O)C(=O)CO']\n",
      "['fluorescein', 'Oc1ccc2c(Oc3cc(O)ccc3C24OC(=O)c5ccccc45)c1']\n",
      "['fluorouracil', 'FC1=CNC(=O)NC1=O']\n",
      "['fluoxetine', 'CNCCC(Oc1ccc(cc1)C(F)(F)F)c2ccccc2']\n",
      "['fluphenazine', 'OCCN1CCN(CCCN2c3ccccc3Sc4ccc(cc24)C(F)(F)F)CC1']\n",
      "['folic acid', 'NC1=Nc2ncc(CNc3ccc(cc3)C(=O)N[C@@H](CCC(O)=O)C(O)=O)nc2C(=O)N1']\n",
      "['furosemide', 'N[S](=O)(=O)c1cc(C(O)=O)c(NCc2occc2)cc1Cl']\n",
      "['gentamicin', 'CNC(C)C1CCC(N)C(O1)OC2C(N)CC(N)C(OC3OCC(C)(O)C(NC)C3O)C2O']\n",
      "['gentian violet', '[Cl-].CN(C)c1ccc(cc1)[C+](c2ccc(cc2)N(C)C)c3ccc(cc3)N(C)C']\n",
      "['glibenclamide', 'COc1ccc(Cl)cc1C(=O)NCCc2ccc(cc2)[S](=O)(=O)NC(=O)NC3CCCCC3']\n",
      "['glucose', 'OC[C@@H](O)[C@@H](O)[C@H](O)[C@@H](O)C=O']\n",
      "['glutaral', 'O=CCCCC=O']\n",
      "['glyceryl trinitrate', 'OCC(O)CO[N+]([O-])=O.[O-][N+]([O-])=O.[O-][N+]([O-])=O']\n",
      "['griseofulvin', 'COC1CC(=O)C[C@@H](C)[C@]12Oc3c(Cl)c(OC)cc(OC)c3C2=O']\n",
      "['haloperidol', 'OC1(CCN(CCCC(=O)c2ccc(F)cc2)CC1)c3ccc(Cl)cc3']\n",
      "['halothane', 'FC(F)(F)C(Cl)Br']\n",
      "['heparin sodium', 'CC(=O)NC1C(O)OC(CO[S](O)(=O)=O)C(OC2OC(C(OC3OC(CO)C(OC4OC(C(O)C(O)C4O[S](O)(=O)=O)C(O)=O)C(O[S](O)(=O)=O)C3N[S](O)(=O)=O)C(O)C2O[S](O)(=O)=O)C(O)=O)C1O']\n",
      "['hepatitis B vaccine', 'CSCC[C@H](N)C(=O)N[C@@H](CCC(N)=O)C(=O)N[C@@H](Cc1c[nH]c2ccccc12)C(=O)N[C@@H](CC(N)=O)C(=O)N[C@@H](CO)C(=O)N[C@@H]([C@@H](C)O)C(=O)N[C@@H]([C@@H](C)O)C(=O)N[C@@H](Cc3ccccc3)C(=O)N[C@@H](CC4C=NC=N4)C(=O)N[C@@H](CCC(N)=O)C(=O)N[C@@H]([C@@H](C)O)C(=O)N[C@@H](CC(C)C)C(=O)N[C@@H](CCC(N)=O)C(=O)N[C@@H](CC(O)=O)C(=O)N5CCC[C@H]5C(=O)N[C@@H](CCCNC(N)=N)C(=O)N[C@@H](C(C)C)C(=O)OC(=O)CNC(=O)CNC(=O)[C@H](C)NC(=O)[C@@H]6CCCN6C(=O)[C@H](Cc7ccccc7)NC(=O)[C@H](Cc8ccc(O)cc8)NC(=O)[C@H](CC(C)C)NC(=O)CNC(=O)[C@@H](N)CCCNC(N)=N']\n",
      "['hydralazine', 'NNc1nncc2ccccc12']\n",
      "['hydrochlorothiazide', 'N[S](=O)(=O)c1cc2c(NCN[S]2(=O)=O)cc1Cl']\n",
      "['hydrocortisone', 'C[C@]12CCC(=O)C=C1CC[C@H]3[C@@H]4CC[C@](O)(C(=O)CO)[C@@]4(C)C[C@H](O)[C@H]23']\n",
      "['hydroxycarbamide', 'NC(=O)NO']\n",
      "['hydroxychloroquine', 'CCN(CCO)CCCC(C)Nc1ccnc2cc(Cl)ccc12']\n",
      "['hyoscine hydrobromide', '[Br-].CN1[C@H]2CC(C[C@@H]1[C@H]3O[C@@H]23)OC(=O)[C@H](CO)c4ccccc4.[H+]']\n",
      "['ibuprofen', 'CC(C)Cc1ccc(cc1)C(C)C(O)=O']\n",
      "['idoxuridine', 'OC[C@H]1O[C@H](C[C@@H]1O)N2C=C(I)C(=O)NC2=O']\n",
      "['ifosfamide', 'ClCCN[P]1(=O)OCCCN1CCCl']\n",
      "['imipenem', 'O.C[C@H](O)[C@@H]1[C@H]2CC(=C(N2C1=O)C(O)=O)SCCN=CN']\n",
      "['indinavir', 'CC(C)(C)NC(=O)[C@@H]1CN(CCN1C[C@@H](O)C[C@@H](Cc2ccccc2)C(=O)N[C@@H]3[C@H](O)Cc4ccccc34)Cc5cccnc5']\n",
      "['insulin', 'CC[C@H](C)[C@H](NC(=O)CN)C(=O)N[C@@H](C(C)C)C(=O)N[C@@H](CCC(O)=O)C(=O)N[C@@H](CCC(N)=O)C(=O)N[C@H]1CSSC[C@@H]2NC(=O)[C@@H](NC(=O)[C@H](CO)NC(=O)[C@@H](NC(=O)[C@H](CSSC[C@H](NC(=O)[C@H](CC(C)C)NC(=O)[C@H](Cc3[nH]cnc3)NC(=O)[C@H](CCC(N)=O)NC(=O)[C@H](CC(N)=O)NC(=O)[C@@H](NC(=O)[C@@H](N)Cc4ccccc4)C(C)C)C(=O)NCC(=O)N[C@@H](CO)C(=O)N[C@@H](Cc5[nH]cnc5)C(=O)N[C@@H](CC(C)C)C(=O)N[C@@H](C(C)C)C(=O)N[C@@H](CCC(O)=O)C(=O)N[C@@H](C)C(=O)N[C@@H](CC(C)C)C(=O)N[C@@H](Cc6ccc(O)cc6)C(=O)N[C@@H](CC(C)C)C(=O)N[C@@H](C(C)C)C(=O)N[C@@H](CSSC[C@H](NC(=O)[C@H](Cc7ccc(O)cc7)NC(=O)[C@H](CC(N)=O)NC(=O)[C@H](CCC(O)=O)NC(=O)[C@H](CC(C)C)NC(=O)[C@H](CCC(N)=O)NC(=O)[C@H](Cc8ccc(O)cc8)NC(=O)[C@H](CC(C)C)NC(=O)[C@H](CO)NC2=O)C(=O)N[C@@H](CC(N)=O)C(O)=O)C(=O)NCC(=O)N[C@@H](CCC(O)=O)C(=O)N[C@@H](CCCNC(N)=N)C(=O)NCC(=O)N[C@@H](Cc9ccccc9)C(=O)N[C@@H](Cc%10ccccc%10)C(=O)N[C@@H](Cc%11ccc(O)cc%11)C(=O)N[C@@H]([C@@H](C)O)C(=O)N%12CCC[C@H]%12C(=O)N[C@@H](CCCCN)C(=O)N[C@@H]([C@@H](C)O)C(O)=O)NC1=O)[C@@H](C)O)[C@@H](C)CC']\n",
      "['iodine', '[I]']\n",
      "['iohexol', 'CC(=O)N(CC(O)CO)c1c(I)c(C(=O)NCC(O)CO)c(I)c(C(=O)NCC(O)CO)c1I']\n",
      "['iopanoic acid', 'CCC(Cc1c(I)cc(I)c(N)c1I)C(O)=O']\n",
      "['ipratropium bromide', '[Br-].CC(C)[N+]1(C)C2CCC1CC(C2)OC(=O)C(CO)c3ccccc3']\n",
      "['isoflurane', 'FC(F)OC(Cl)C(F)(F)F']\n",
      "['isoniazid', 'NNC(=O)c1ccncc1']\n",
      "['isoprenaline', 'CC(C)NCC(O)c1ccc(O)c(O)c1']\n",
      "['isosorbide dinitrate', '[O-][N+](=O)O[C@H]1CO[C@@H]2[C@@H](CO[C@H]12)O[N+]([O-])=O']\n",
      "['ivermectin', 'CCC(C)[C@H]1O[C@]2(CC[C@@H]1C)C[C@@H]3C[C@@H](C/C=C(C)/[C@@H](O[C@H]4C[C@H](OC)[C@@H](O[C@H]5C[C@H](OC)[C@@H](O)[C@H](C)O5)[C@H](C)O4)[C@@H](C)/C=C/C=C/6CO[C@@H]7[C@H](O)C(=C[C@@H](C(=O)O3)[C@]67O)C)O2.CO[C@H]8C[C@@H](O[C@@H](C)[C@@H]8O)O[C@H]9[C@H](C)O[C@H](C[C@@H]9OC)O[C@H]\\\\\\\\%10[C@@H](C)/C=C/C=C/%11CO[C@@H]%12[C@H](O)C(=C[C@@H](C(=O)O[C@H]%13C[C@@H](C/C=C%10C)O[C@@]%14(CC[C@H](C)[C@H](O%14)C(C)C)C%13)[C@]%11%12O)C']\n",
      "['kanamycin', 'NCC1OC(OC2C(N)CC(N)C(OC3OC(CO)C(O)C(N)C3O)C2O)C(O)C(O)C1O']\n",
      "['ketamine', 'CNC1(CCCCC1=O)c2ccccc2Cl']\n",
      "['ketoconazole', 'CC(=O)N1CCN(CC1)c2ccc(OC[C@H]3CO[C@@](Cn4ccnc4)(O3)c5ccc(Cl)cc5Cl)cc2']\n",
      "['lactulose', 'OC[C@H]1O[C@@H](O[C@@H]2[C@@H](CO)O[C@](O)(CO)[C@H]2O)[C@H](O)[C@@H](O)[C@H]1O']\n",
      "['lamivudine', 'NC1=NC(=O)N(C=C1)[C@@H]2CS[C@H](CO)O2']\n",
      "['levamisole', 'C1CN2C[C@@H](N=C2S1)c3ccccc3']\n",
      "['levodopa', 'N[C@@H](Cc1ccc(O)c(O)c1)C(O)=O']\n",
      "['levofloxacin', 'C[C@H]1COc2c(N3CCN(C)CC3)c(F)cc4C(=O)C(=CN1c24)C(O)=O']\n",
      "['levonorgestrel', 'CC[C@]12CC[C@H]3[C@@H](CCC4=CC(=O)CC[C@H]34)[C@@H]1CC[C@@]2(O)C#C']\n",
      "['levothyroxine', 'NC(Cc1cc(I)c(Oc2cc(I)c(O)c(I)c2)c(I)c1)C(O)=O']\n",
      "['lidocaine', 'CCN(CC)CC(=O)Nc1c(C)cccc1C']\n",
      "['lithium carbonate', '[Li+].[Li+].[O-]C([O-])=O']\n",
      "['lopinavir', 'CC(C)[C@H](N1CCCNC1=O)C(=O)N[C@H](C[C@H](O)[C@H](Cc2ccccc2)NC(=O)COc3c(C)cccc3C)Cc4ccccc4']\n",
      "['lorazepam', 'OC1N=C(c2ccccc2Cl)c3cc(Cl)ccc3NC1=O']\n",
      "[\"Lugol's solution\", '[K+].I[I-]I']\n",
      "['lumefantrine', 'CCCCN(CCCC)CC(O)c1cc(Cl)cc2\\\\\\\\C(=C\\\\\\\\c3ccc(Cl)cc3)c4cc(Cl)ccc4c12']\n",
      "['magnesium hydroxide', '[OH-].[OH-].[Mg++]']\n",
      "['magnesium sulfate', '[Mg++].[O-][S]([O-])(=O)=O']\n",
      "['mannitol', 'OC[C@@H](O)[C@@H](O)[C@H](O)[C@H](O)CO']\n",
      "['mebendazole', 'COC(=O)Nc1[nH]c2cc(ccc2n1)C(=O)c3ccccc3']\n",
      "['medroxyprogesterone acetate', 'C[C@H]1C[C@@H]2[C@H](CC[C@@]3(C)[C@H]2CC[C@]3(OC(C)=O)C(C)=O)[C@@]4(C)CCC(=O)C=C14']\n",
      "['mefloquine', 'OC(C1CCCCN1)c2cc(nc3c2cccc3C(F)(F)F)C(F)(F)F']\n",
      "['meglumine iotroxate', 'CNC[C@H](O)[C@@H](O)[C@H](O)[C@H](O)CO.OC(=O)c1c(I)cc(I)c(I)c1NC(=O)COCCOCCOCC(=O)Nc2c(I)c(I)cc(I)c2C(O)=O']\n",
      "['melarsoprol', 'Nc1nc(N)nc(Nc2ccc(cc2)[As]3SCC(CO)S3)n1']\n",
      "['mercaptopurine', 'S=C1N=CNc2nc[nH]c12']\n",
      "['mesna', '[Na+].[O-][S](=O)(=O)CCS']\n",
      "['metformin', '[H+].[Cl-].CN(C)C(=N)N=C(N)N']\n",
      "['methadone', 'CCC(=O)C(CC(C)N(C)C)(c1ccccc1)c2ccccc2']\n",
      "['methotrexate', 'CN(Cc1cnc2nc(N)nc(N)c2n1)c3ccc(cc3)C(=O)N[C@@H](CCC(O)=O)C(O)=O']\n",
      "['methyldopa', 'COC(=O)[C@@H](N)Cc1ccc(O)c(O)c1']\n",
      "['methylprednisolone', 'C[C@H]1C[C@H]2[C@@H]3CC[C@](O)(C(=O)CO)[C@@]3(C)C[C@H](O)[C@@H]2[C@@]4(C)C=CC(=O)C=C14']\n",
      "['methylrosanilinium chloride', '[Cl-].CN(C)c1ccc(cc1)[C+](c2ccc(cc2)N(C)C)c3ccc(cc3)N(C)C']\n",
      "['methylthioninium chloride', '[Cl-].CC1=CC=CC=CC=C[SH+]1']\n",
      "['metoclopramide', 'CCN(CC)CCNC(=O)c1cc(Cl)c(N)cc1OC']\n",
      "['metrifonate', 'CO[P](=O)(OC)C(O)C(Cl)(Cl)Cl']\n",
      "['metronidazole', 'Cc1ncc(n1CCO)[N+]([O-])=O']\n",
      "['miconazole', 'Clc1ccc(COC(Cn2ccnc2)c3ccc(Cl)cc3Cl)c(Cl)c1']\n",
      "['midazolam', 'Cc1ncc2CN=C(c3ccccc3F)c4cc(Cl)ccc4n12']\n",
      "['miltefosine', 'CCCCCCCCCCCCCCCCO[P]([O-])(=O)OCC[N+](C)(C)C']\n",
      "['misoprostol', 'CCCCC(C)(O)C/C=C/[C@H]1[C@H](O)CC(=O)[C@@H]1CCCCCCC(=O)OC']\n",
      "['morphine', 'CN1CC[C@]23[C@H]4Oc5c(O)ccc(C[C@@H]1[C@@H]2C=C[C@@H]4O)c35']\n",
      "['mupirocin', 'C[C@H](O)[C@H](C)[C@@H]1O[C@H]1C[C@H]2CO[C@@H](C\\\\\\\\C(C)=C\\\\\\\\C(=O)OCCCCCCCCC(O)=O)[C@H](O)[C@@H]2O']\n",
      "['nalidixic acid', 'CCN1C=C(C(O)=O)C(=O)c2ccc(C)nc12']\n",
      "['naloxone', 'Oc1ccc2C[C@H]3N(CC[C@@]45[C@@H](Oc1c24)C(=O)CC[C@@]35O)CC=C']\n",
      "['nelfinavir', 'Cc1c(O)cccc1C(=O)N[C@@H](CSc2ccccc2)[C@H](O)CN3C[C@H]4CCCC[C@H]4C[C@H]3C(=O)NC(C)(C)C']\n",
      "['neomycin sulfate', 'NC[C@H]1O[C@H](O[C@@H]2[C@@H](N)C[C@@H](N)[C@H](O)[C@H]2O[C@@H]3O[C@H](CO)[C@@H](OC4O[C@@H](CN)[C@@H](O)[C@H](O)[C@H]4N)[C@H]3O)[C@H](N)[C@@H](O)[C@@H]1O.O[S](O)(=O)=O']\n",
      "['neostigmine', 'CN(C)C(=O)Oc1cccc(c1)[N+](C)(C)C']\n",
      "['nevirapine', 'Cc1ccnc2N(C3CC3)c4ncccc4C(=O)Nc12']\n",
      "['niclosamide', 'Oc1ccc(Cl)cc1C(=O)Nc2ccc(cc2Cl)[N+]([O-])=O']\n",
      "['nicotinamide', 'NC(=O)c1cccnc1']\n",
      "['nifedipine', 'COC(=O)C1=C(C)NC(=C(C1c2ccccc2[N+]([O-])=O)C(=O)OC)C']\n",
      "['nifurtimox', 'CC1C[S](=O)(=O)CCN1\\\\\\\\N=C\\\\\\\\c2oc(cc2)[N+]([O-])=O']\n",
      "['nitrofurantoin', '[O-][N+](=O)c1oc(cc1)/C=N/N2CC(=O)NC2=O']\n",
      "['nitrous oxide', '[O-][N+]#N']\n",
      "['norethisterone', 'C[C@]12CC[C@H]3[C@@H](CCC4=CC(=O)CC[C@H]34)[C@@H]1CC[C@@]2(O)C#C']\n",
      "['norethisterone enantate', 'CCCCCCC(=O)O[C@]1(CC[C@H]2C3CCC4=CC(=O)CC[C@@H]4[C@H]3CC[C@]12C)C#C']\n",
      "['nystatin', 'CC1OC(=O)CC(O)CC(O)CC(O)CCC(O)C(O)CC(=O)CC(O)C(C(O)CC(OC2O[C@H](C)[C@@H](O)[C@H](N)[C@@H]2O)\\\\\\\\C=C\\\\\\\\C=C\\\\\\\\C=C\\\\\\\\C=C\\\\\\\\CC/C=C/C=C/C(C)C(O)C1C)C(O)=O']\n",
      "['ofloxacin', 'CC1COc2c(N3CCN(C)CC3)c(F)cc4C(=O)C(=CN1c24)C(O)=O']\n",
      "['ondansetron', 'Cn1c2CCC(Cn3ccnc3C)C(=O)c2c4ccccc14']\n",
      "['Oseltamivir', 'CCOC(=O)C1=C[C@@H](OC(CC)CC)[C@H](NC(C)=O)[C@@H](N)C1']\n",
      "['oxamniquine', 'CC(C)NCC1CCc2cc(CO)c(cc2N1)[N+]([O-])=O']\n",
      "['oxygen', 'O']\n",
      "['oxytocin', 'CC[C@H](C)[C@@H]1NC(=O)[C@H](Cc2ccc(O)cc2)NC(=O)[C@@H](N)CSSC[C@H](NC(=O)[C@H](CC(N)=O)NC(=O)[C@H](CCC(N)=O)NC1=O)C(=O)N3CCC[C@H]3C(=O)N[C@@H](CC(C)C)C(=O)NCC(N)=O']\n",
      "['paclitaxel', 'CC(=O)O[C@H]1C(=O)[C@]2(C)[C@@H](O)C[C@H]3OC[C@@]3(OC(C)=O)C2[C@H](OC(=O)c4ccccc4)[C@]5(O)C[C@H](OC(=O)[C@H](O)[C@@H](NC(=O)c6ccccc6)c7ccccc7)C(=C1C5(C)C)C']\n",
      "['p-aminosalicylic acid', 'Nc1ccc(C(O)=O)c(O)c1']\n",
      "['paracetamol', 'CC(=O)Nc1ccc(O)cc1']\n",
      "['paromomycin', 'NC[C@@H]1O[C@H](O[C@H]2[C@@H](O)[C@@H](O[C@@H]2CO)O[C@@H]3[C@@H](O)[C@H](N)C[C@H](N)[C@H]3O[C@H]4O[C@H](CO)[C@@H](O)[C@H](O)[C@H]4N)[C@H](N)[C@@H](O)[C@@H]1O']\n",
      "['penicillamine', 'CC(C)(S)[C@H](N)C(O)=O']\n",
      "['pentamidine', 'NC(=N)c1ccc(OCCCCCOc2ccc(cc2)C(N)=N)cc1']\n",
      "['permethrin', 'CC1(C)[C@@H](C=C(Cl)Cl)[C@H]1C(=O)OCc2cccc(Oc3ccccc3)c2']\n",
      "['pethidine', 'CCOC(=O)C1(CCN(C)CC1)c2ccccc2']\n",
      "['phenobarbital', 'CCC1(C(=O)NC(=O)NC1=O)c2ccccc2']\n",
      "['phenoxymethylpenicillin', 'CC1(C)S[C@@H]2[C@H](NC(=O)COc3ccccc3)C(=O)N2[C@H]1C([O-])=O']\n",
      "['phentolamine', 'Cc1ccc(cc1)N(CC2=NCCN2)c3cccc(O)c3']\n",
      "['phenytoin', 'O=C1NC(=O)C(N1)(c2ccccc2)c3ccccc3']\n",
      "['phytomenadione', 'CC(C)CCCC(C)CCCC(C)CCC/C(C)=C/CC1=C(C)C(=O)c2ccccc2C1=O']\n",
      "['pilocarpine', 'CC[C@H]1[C@H](COC1=O)Cc2cncn2C']\n",
      "['podophyllin', 'COc1cc(cc(OC)c1OC)C2C(C(CO)C(O)c3cc4OCOc4cc23)C(O)=O.COc5cc(cc(OC)c5OC)C6C(C(CO)C(O)c7cc8OCOc8cc67)C(O)=O.COc9cc(cc(OC)c9OC)C%10C%11C(COC%11=O)C(O)c%12cc%13OCOc%13cc%10%12.COc%14cc(cc(OC)c%14OC)C%15C%16C(COC%16=O)C(O)c%17cc%18OCOc%18cc%15%17']\n",
      "['potassium chloride', '[Cl-].[K+]']\n",
      "['potassium iodide', '[K+].[I-]']\n",
      "['potassium permanganate', '[K+].[O-][Mn](=O)(=O)=O']\n",
      "['praziquantel', 'O=C1CN(CC2N1CCc3ccccc23)C(=O)C4CCCCC4']\n",
      "['prednisolone', 'C[C@]12C[C@H](O)[C@H]3[C@@H](CCC4=CC(=O)C=C[C@]34C)[C@@H]1CC[C@]2(O)C(=O)CO']\n",
      "['primaquine', 'COc1cc(NC(C)CCCN)c2ncccc2c1']\n",
      "['probenecid', 'CCCN(CCC)[S](=O)(=O)c1ccc(cc1)C(O)=O']\n",
      "['procainamide', 'CCN(CC)CCNC(=O)c1ccc(N)cc1']\n",
      "['procarbazine', 'CNNCc1ccc(cc1)C(=O)NC(C)C']\n",
      "['proguanil', 'CC(C)N=C(N)N=C(N)Nc1ccc(Cl)cc1']\n",
      "['promethazine', 'CC(CN1c2ccccc2Sc3ccccc13)N(C)C']\n",
      "['propofol', 'CC(C)c1cccc(C(C)C)c1O']\n",
      "['propranolol', 'CC(C)NCC(O)COc1cccc2ccccc12']\n",
      "['propyliodone', 'CCCOC(=O)CN1C=C(I)C(=O)C(=C1)I']\n",
      "['propylthiouracil', 'CCCN1C(=O)C=CNC1=S']\n",
      "['protionamide', 'CCCc1cc(ccn1)C(N)=S']\n",
      "['pyrantel', 'CN1CCCN=C1\\\\\\\\C=C\\\\\\\\c2sccc2']\n",
      "['pyrazinamide', 'NC(=O)c1cnccn1']\n",
      "['pyridostigmine', 'CN(C)C(=O)Oc1ccc[n+](C)c1']\n",
      "['pyridoxine', 'Cc1ncc(CO)c(CO)c1O']\n",
      "['pyrimethamine', 'CCc1nc(N)nc(N)c1c2ccc(Cl)cc2']\n",
      "['quinidine', 'COc1ccc2nccc([C@H](O)[C@H]3C[C@@H]4CCN3C[C@@H]4C=C)c2c1']\n",
      "['quinine', 'COc1ccc2nccc([C@@H](O)[C@@H]3C[C@H]4CCN3C[C@@H]4C=C)c2c1']\n",
      "['ranitidine', 'CNC(/NCCSCc1oc(CN(C)C)cc1)=C\\\\\\\\[N+]([O-])=O']\n",
      "['reserpine', 'CO[C@H]1[C@@H](C[C@@H]2CN3CCc4c([nH]c5cc(OC)ccc45)[C@H]3C[C@@H]2[C@@H]1C(=O)OC)OC(=O)c6cc(OC)c(OC)c(OC)c6']\n",
      "['retinol', 'CC(=C\\\\\\\\CO)/C=C/C=C(C)/C=C/C1=C(C)CCCC1(C)C']\n",
      "['ribavirin', 'NC(=O)c1ncn(n1)[C@@H]2O[C@H](CO)[C@@H](O)[C@H]2O']\n",
      "['riboflavin', 'Cc1cc2N=C3C(=O)NC(=O)N=C3N(CC(O)C(O)C(O)CO)c2cc1C']\n",
      "['rifabutin', 'CO[C@H]1/C=C/O[C@@]2(C)Oc3c(C)c(O)c4C(=O)C(=C5NC6(CCN(CC6)CC(C)C)N=C5c4c3C2=O)NC(=O)C(=C\\\\\\\\C=C\\\\\\\\[C@H](C)[C@H](O)[C@@H](C)[C@@H](O)[C@@H](C)[C@H](OC(C)=O)[C@@H]1C)/C']\n",
      "['ritonavir', 'CC(C)[C@H](NC(=O)N(C)Cc1csc(n1)C(C)C)C(=O)N[C@H](C[C@H](O)[C@H](Cc2ccccc2)NC(=O)OCc3scnc3)Cc4ccccc4']\n",
      "['salbutamol', 'CC(C)(C)NCC(O)c1ccc(O)c(CO)c1']\n",
      "['salicylic acid', 'OC(=O)c1ccccc1O']\n",
      "['saquinavir', 'CC(C)(C)NC(=O)[C@@H]1C[C@@H]2CCCC[C@@H]2CN1C[C@@H](O)[C@H](Cc3ccccc3)NC(=O)[C@H](CC(N)=O)NC(=O)c4ccc5ccccc5n4']\n",
      "['selenium sulfide', 'S=[Se]']\n",
      "['silver nitrate', '[Ag+].[O-][N+]([O-])=O']\n",
      "['silver sulfadiazine', '[Ag+].Nc1ccc(cc1)[S](=O)(=O)[N-]c2ncccn2']\n",
      "['sodium calcium edetate', '[Na+].[Ca++].OC(=O)CN(CCN(CC([O-])=O)CC([O-])=O)CC([O-])=O']\n",
      "['sodium chloride', '[Na+].[Cl-]']\n",
      "['sodium fluoride', '[F-].[Na+]']\n",
      "['sodium hydrogen carbonate', '[Na+].OC([O-])=O']\n",
      "['sodium nitrite', '[Na+].[O-]N=O']\n",
      "['sodium stibocaptate', '[Na+].[Na+].[Na+].[Na+].[Na+].[Na+].[O-]C(=O)C(S[Sb]1SC(C(S1)C([O-])=O)C([O-])=O)C(S[Sb]2SC(C(S2)C([O-])=O)C([O-])=O)C([O-])=O']\n",
      "['sodium thiosulfate', '[Na+].[Na+].[O-][S]([O-])(=O)=S']\n",
      "['spectinomycin', 'CN[C@@H]1[C@H](O)[C@H](NC)[C@H]2O[C@]3(O)[C@@H](O[C@H](C)CC3=O)O[C@@H]2[C@H]1O.O[S](O)(=O)=O']\n",
      "['spironolactone', 'CC(=O)S[C@@H]1CC2=CC(=O)CC[C@]2(C)[C@H]3CC[C@@]4(C)[C@@H](CC[C@@]45CCC(=O)O5)[C@H]13']\n",
      "['stavudine', 'CC1=CN([C@@H]2O[C@H](CO)C=C2)C(=O)NC1=O']\n",
      "['streptomycin', 'CN[C@H]1[C@H](O)[C@@H](O)[C@H](CO)O[C@H]1O[C@H]2[C@@H](O[C@@H](C)[C@]2(O)C=O)O[C@H]3[C@H](O)[C@@H](O)[C@H](N=C(N)N)[C@@H](O)[C@@H]3N=C(N)N']\n",
      "['succimer', 'OC(=O)C(S)C(S)C(O)=O']\n",
      "['sulfadiazine', 'Nc1ccc(cc1)[S](=O)(=O)Nc2ncccn2']\n",
      "['sulfadoxine', 'COc1ncnc(N[S](=O)(=O)c2ccc(N)cc2)c1OC']\n",
      "['sulfamethoxazole', 'Cc1onc(N[S](=O)(=O)c2ccc(N)cc2)c1']\n",
      "['sulfasalazine', 'OC(=O)C1=C\\\\\\\\C(C=CC1=O)=N/Nc2ccc(cc2)[S](=O)(=O)Nc3ccccn3']\n",
      "['suramin sodium', '[Na+].[Na+].[Na+].[Na+].[Na+].[Na+].Cc1ccc(cc1NC(=O)c2cccc(NC(=O)Nc3cccc(c3)C(=O)Nc4cc(ccc4C)C(=O)Nc5ccc(c6cc(cc(c56)[S]([O-])(=O)=O)[S]([O-])(=O)=O)[S]([O-])(=O)=O)c2)C(=O)Nc7ccc(c8cc(cc(c78)[S]([O-])(=O)=O)[S]([O-])(=O)=O)[S]([O-])(=O)=O']\n",
      "['suxamethonium', 'C[N+](C)(C)CCOC(=O)CCC(=O)OCC[N+](C)(C)C']\n",
      "['tamoxifen', 'CC/C(c1ccccc1)=C(c2ccccc2)/c3ccc(OCCN(C)C)cc3']\n",
      "['tenofovir', 'C[C@H](Cn1cnc2c(N)ncnc12)OC[P](O)(O)=O']\n",
      "['tenofovir disoproxil fumarate', 'CC(C)OC(=O)OCO[P](=O)(CO[C@H](C)Cn1cnc2c(N)ncnc12)OCOC(=O)OC(C)C.OC(=O)\\\\\\\\C=C\\\\\\\\C(O)=O']\n",
      "['terbinafine hydrochloride', '[H+].[Cl-].CN(C\\\\\\\\C=C\\\\\\\\C#CC(C)(C)C)Cc1cccc2ccccc12']\n",
      "['testosterone', 'C[C@]12CC[C@H]3[C@@H](CCC4=CC(=O)CC[C@]34C)[C@@H]1CC[C@@H]2O']\n",
      "['tetracaine', 'CCCCNc1ccc(cc1)C(=O)OCCN(C)C']\n",
      "['tetracycline', 'CN(C)[C@H]1[C@@H]2C[C@H]3C(=C(O)c4c(O)cccc4[C@@]3(C)O)C(=O)[C@]2(O)C(=O)\\\\\\\\C(=C(N)/O)C1=O']\n",
      "['theophylline', 'CN1C(=O)N(C)c2nc[nH]c2C1=O']\n",
      "['thiamine', '[Cl-].Cc1ncc(C[n+]2csc(CCO)c2C)c(N)n1']\n",
      "['thioacetazone', 'CC(=O)Nc1ccc(cc1)/C=N/NC(N)=S']\n",
      "['thioguanine', 'NC1=Nc2nc[nH]c2C(=S)N1']\n",
      "['thiopental', 'CCCC(C)C1(CC)C(=O)NC(=S)NC1=O']\n",
      "['timolol', 'CC(C)(C)NC[C@H](O)COc1nsnc1N2CCOCC2']\n",
      "['triamterene', 'Nc1nc(N)c2nc(c3ccccc3)c(N)nc2n1']\n",
      "['triclabendazole', 'CSc1[nH]c2cc(Cl)c(Oc3cccc(Cl)c3Cl)cc2n1']\n",
      "['trimethoprim', 'COc1cc(Cc2cnc(N)nc2N)cc(OC)c1OC']\n",
      "['tropicamide', 'NC(=O)C(CO)c1ccccc1']\n",
      "['urea', 'NC(N)=O']\n",
      "['valproic acid', 'CCCC(CCC)C(O)=O']\n",
      "['vancomycin', 'CN[C@H](CC(C)C)C(=O)NC1[C@H](O)c2ccc(Oc3cc4cc(Oc5ccc(cc5Cl)[C@@H](O)[C@@H]6NC(=O)[C@H](NC(=O)[C@@H]4NC(=O)[C@H](CC(N)=O)NC1=O)c7ccc(O)c(c7)c8c(O)cc(O)cc8[C@@H](NC6=O)C(O)=O)c3O[C@@H]9O[C@H](CO)[C@@H](O)[C@H](O)[C@H]9O[C@H]%10C[C@](C)(N)[C@H](O)[C@H](C)O%10)c(Cl)c2']\n",
      "['vecuronium', '[Br-].CC(=O)O[C@H]1C[C@@H]2CC[C@@H]3[C@H](CC[C@@]4(C)[C@H]3C[C@@H]([C@@H]4OC(C)=O)[N+]5(C)CCCCC5)[C@@]2(C)C[C@@H]1N6CCCCC6']\n",
      "['verapamil', 'COc1ccc(CCN(C)CCCC(C#N)(C(C)C)c2ccc(OC)c(OC)c2)cc1OC']\n",
      "['vinblastine', 'CC[C@]1(O)C[C@H]2CN(CCc3c([nH]c4ccccc34)[C@@](C2)(C(=O)OC)c5cc6c(cc5OC)N(C)[C@H]7[C@](O)([C@H](OC(C)=O)[C@]8(CC)C=CCN9CC[C@]67[C@H]89)C(=O)OC)C1']\n",
      "['vincristine', 'CC[C@]1(O)C[C@H]2CN(CCc3c([nH]c4ccccc34)[C@@](C2)(C(=O)OC)c5cc6c(cc5OC)N(C=O)[C@H]7[C@](O)([C@H](OC(C)=O)[C@]8(CC)C=CCN9CC[C@]67[C@H]89)C(=O)OC)C1']\n",
      "['warfarin', 'CC(=O)CC(c1ccccc1)C2=C(O)Oc3ccccc3C2=O']\n",
      "['water for injection', 'O']\n",
      "['xylometazoline', 'Cc1cc(cc(C)c1CC2=NCCN2)C(C)(C)C']\n",
      "['zidovudine', 'CC1=CN([C@H]2C[C@H](N=[N+]=[N-])[C@@H](CO)O2)C(=O)NC1=O']\n",
      "['zinc sulfate', '[Zn++].[O-][S]([O-])(=O)=O']\n"
     ]
    }
   ],
   "source": [
    "with open('WHO_EML_SMILES.csv') as csv_file:\n",
    "    reader = csv.reader(csv_file)\n",
    "    for line in reader:\n",
    "        print(line)"
   ]
  },
  {
   "cell_type": "markdown",
   "id": "9912b4fb",
   "metadata": {},
   "source": [
    "Take abacavir for example, the first line in the file. This is a medication used to treat HIV/AIDS. To start working with this molecule, we could build the structure in Avogadro, but a more systematic way would be to create a molecule object directly from the SMILES string.  The RDKit toolkit allows us to do this."
   ]
  },
  {
   "cell_type": "code",
   "execution_count": 3,
   "id": "static-expert",
   "metadata": {},
   "outputs": [],
   "source": [
    "# Generate an RDKit molecule object from a SMILES string.\n",
    "# The example uses abacavir taken from the above printout.\n",
    "m1 = Chem.MolFromSmiles('Nc1nc(NC2CC2)c3ncn([C@@H]4C[C@H](CO)C=C4)c3n1')"
   ]
  },
  {
   "cell_type": "code",
   "execution_count": 4,
   "id": "parallel-symbol",
   "metadata": {},
   "outputs": [
    {
     "data": {
      "image/png": "[encoded data removed]",
      "text/plain": [
       "<rdkit.Chem.rdchem.Mol at 0x7f3acf851800>"
      ]
     },
     "execution_count": 4,
     "metadata": {},
     "output_type": "execute_result"
    }
   ],
   "source": [
    "# This is how the RDKit molecule object is represented - as a 2D drawing.\n",
    "m1"
   ]
  },
  {
   "cell_type": "code",
   "execution_count": 5,
   "id": "opposed-presentation",
   "metadata": {},
   "outputs": [
    {
     "name": "stderr",
     "output_type": "stream",
     "text": [
      "RDKit WARNING: [13:57:59] Molecule does not have explicit Hs. Consider calling AddHs()\n"
     ]
    },
    {
     "data": {
      "text/plain": [
       "0"
      ]
     },
     "execution_count": 5,
     "metadata": {},
     "output_type": "execute_result"
    }
   ],
   "source": [
    "# Starting from SMILES, there are no 3-D coordinates and they need to be generated.\n",
    "# This is how RDKit generates 3-D conformers for a molecule.\n",
    "# Under the hood, it uses a method called ETDKG to do this.\n",
    "AllChem.EmbedMolecule(m1)"
   ]
  },
  {
   "cell_type": "code",
   "execution_count": 6,
   "id": "looking-nebraska",
   "metadata": {},
   "outputs": [
    {
     "name": "stdout",
     "output_type": "stream",
     "text": [
      "21\n",
      "\n",
      "N      0.334415    2.256787    1.997453\n",
      "C      0.597814    1.269498    1.026155\n",
      "N      1.881035    1.096082    0.634450\n",
      "C      2.264695    0.188415   -0.283800\n",
      "N      3.610711    0.018385   -0.683571\n",
      "C      4.625571    0.849885   -0.086580\n",
      "C      4.851607    0.821314    1.399328\n",
      "C      5.885584    0.306313    0.441183\n",
      "C      1.258408   -0.581960   -0.825081\n",
      "N      1.260820   -1.558889   -1.740021\n",
      "C     -0.022996   -1.995598   -1.919351\n",
      "N     -0.792622   -1.288158   -1.119546\n",
      "C     -2.291256   -1.540994   -1.088350\n",
      "C     -2.792726   -0.034890   -0.808529\n",
      "C     -4.235149   -0.666128   -0.256521\n",
      "C     -4.509729    0.663422    0.665907\n",
      "O     -5.678789    0.522312    1.322173\n",
      "C     -3.440055   -1.484943    0.897090\n",
      "C     -2.384844   -1.947035    0.419162\n",
      "C     -0.057689   -0.439675   -0.456642\n",
      "N     -0.364804    0.486329    0.465091\n",
      "\n"
     ]
    }
   ],
   "source": [
    "# Now we can print out the 3D coordinates. Note that hydrogen atoms are missing.\n",
    "print(Chem.MolToXYZBlock(m1))"
   ]
  },
  {
   "cell_type": "code",
   "execution_count": 7,
   "id": "settled-coral",
   "metadata": {},
   "outputs": [
    {
     "data": {
      "application/vnd.jupyter.widget-view+json": {
       "model_id": "c649bf678e3f42a6a6c352a6aab0e2aa",
       "version_major": 2,
       "version_minor": 0
      },
      "text/plain": [
       "NGLWidget()"
      ]
     },
     "metadata": {},
     "output_type": "display_data"
    }
   ],
   "source": [
    "# nglview has a nice tool for allowing us to view the 3D coordinates as well.\n",
    "nglview.show_rdkit(m1)"
   ]
  },
  {
   "cell_type": "code",
   "execution_count": 8,
   "id": "thousand-diary",
   "metadata": {},
   "outputs": [
    {
     "data": {
      "image/png": "[encoded data removed]",
      "text/plain": [
       "<rdkit.Chem.rdchem.Mol at 0x7f3acf8182b0>"
      ]
     },
     "execution_count": 8,
     "metadata": {},
     "output_type": "execute_result"
    }
   ],
   "source": [
    "# Note that the structure has no hydrogens. This will interfere with quantum calcs\n",
    "# and possibly even with conformer generation (though it didn't this time).\n",
    "# Hydrogens need to be added explicitly to a structure in RDKit.\n",
    "m1h = Chem.AddHs(m1)\n",
    "m1h"
   ]
  },
  {
   "cell_type": "code",
   "execution_count": 9,
   "id": "owned-viking",
   "metadata": {},
   "outputs": [
    {
     "data": {
      "image/png": "[encoded data removed]",
      "text/plain": [
       "<rdkit.Chem.rdchem.Mol at 0x7f3acf8182b0>"
      ]
     },
     "execution_count": 9,
     "metadata": {},
     "output_type": "execute_result"
    }
   ],
   "source": [
    "# The 2D structure doesn't make sense but that's because we need to re-run the conformer generation\n",
    "# to place the hydrogen atoms in the right places. In the future, you could run the \"Chem.AddHs()\"\n",
    "# immediately after creating the molecule from SMILES.\n",
    "AllChem.EmbedMolecule(m1h)\n",
    "m1h"
   ]
  },
  {
   "cell_type": "code",
   "execution_count": 10,
   "id": "adult-maximum",
   "metadata": {},
   "outputs": [
    {
     "name": "stdout",
     "output_type": "stream",
     "text": [
      "39\n",
      "\n",
      "N     -1.138271    2.980919    0.297381\n",
      "C     -1.186806    1.540524    0.207489\n",
      "N     -2.390155    0.946733    0.164249\n",
      "C     -2.564764   -0.382049    0.080630\n",
      "N     -3.815632   -1.041326    0.038150\n",
      "C     -5.103837   -0.404570    0.066153\n",
      "C     -5.476373    0.481388    1.196096\n",
      "C     -5.331744    1.012545   -0.209477\n",
      "C     -1.408089   -1.132809    0.039940\n",
      "N     -1.171097   -2.447487   -0.040688\n",
      "C      0.158760   -2.649520   -0.046340\n",
      "N      0.812377   -1.475862    0.030147\n",
      "C      2.235794   -1.355647    0.045052\n",
      "C      2.732880   -0.107716    0.742153\n",
      "C      4.193054   -0.145734    0.274109\n",
      "C      4.846013    1.195396    0.394512\n",
      "O      6.148652    1.087805   -0.040927\n",
      "C      3.993764   -0.550629   -1.154746\n",
      "C      2.865027   -1.245120   -1.270796\n",
      "C     -0.151270   -0.538804    0.083476\n",
      "N     -0.060157    0.807441    0.167745\n",
      "H     -1.771819    3.513443    0.934387\n",
      "H     -0.468481    3.528253   -0.272115\n",
      "H     -3.769219   -2.110804   -0.019222\n",
      "H     -5.943290   -1.085398   -0.257738\n",
      "H     -4.711243    0.709133    1.955988\n",
      "H     -6.514554    0.466101    1.584783\n",
      "H     -4.497581    1.681713   -0.477138\n",
      "H     -6.276281    1.314675   -0.747662\n",
      "H      0.608965   -3.628523   -0.104972\n",
      "H      2.731826   -2.216457    0.580931\n",
      "H      2.312779    0.818414    0.341670\n",
      "H      2.679797   -0.189381    1.850202\n",
      "H      4.682554   -0.941590    0.870644\n",
      "H      4.866319    1.471106    1.459505\n",
      "H      4.265892    1.909966   -0.209528\n",
      "H      6.477252    0.165878   -0.137150\n",
      "H      4.649161   -0.328088   -1.988955\n",
      "H      2.489798   -1.653920   -2.197340\n",
      "\n"
     ]
    },
    {
     "data": {
      "application/vnd.jupyter.widget-view+json": {
       "model_id": "5068d6b165b14cf09eb879895445cf36",
       "version_major": 2,
       "version_minor": 0
      },
      "text/plain": [
       "NGLWidget()"
      ]
     },
     "metadata": {},
     "output_type": "display_data"
    }
   ],
   "source": [
    "# Ah, much better\n",
    "print(Chem.MolToXYZBlock(m1h))\n",
    "nglview.show_rdkit(m1h)"
   ]
  },
  {
   "cell_type": "markdown",
   "id": "5731a70b",
   "metadata": {},
   "source": [
    "The power of cheminformatic tools becomes apparent when you want to work with big batches of molecules. For example we can create RDKit molecule objects from each molecule in the file:"
   ]
  },
  {
   "cell_type": "code",
   "execution_count": 11,
   "id": "e7896d0f",
   "metadata": {},
   "outputs": [
    {
     "name": "stderr",
     "output_type": "stream",
     "text": [
      "RDKit WARNING: [13:57:59] WARNING: not removing hydrogen atom without neighbors\n",
      "RDKit WARNING: [13:57:59] WARNING: not removing hydrogen atom without neighbors\n",
      "RDKit WARNING: [13:57:59] WARNING: not removing hydrogen atom without neighbors\n"
     ]
    }
   ],
   "source": [
    "WHO_Molecules = {}\n",
    "with open('WHO_EML_SMILES.csv') as csv_file:\n",
    "    reader = csv.reader(csv_file)\n",
    "    for line in reader:\n",
    "        key = line[0]\n",
    "        smi = line[1]\n",
    "        WHO_Molecules[key] = Chem.MolFromSmiles(smi)"
   ]
  },
  {
   "cell_type": "markdown",
   "id": "47bc73cb",
   "metadata": {},
   "source": [
    "Running the above command produced a few warnings for me, which is to be expected when working with large datasets, but there were no errors."
   ]
  },
  {
   "cell_type": "markdown",
   "id": "bb6a50fa",
   "metadata": {},
   "source": [
    "Now that we have a list of Molecule objects, we could calculate some properties.  For example, let's calculate the molecular weight of all the compounds and make a histogram.  The correct API call to use can be obtained by Google searching \"rdkit molecular weight\". It gives us a function `rdkit.Chem.Descriptors.ExactMolWt` which takes a molecule object as input."
   ]
  },
  {
   "cell_type": "code",
   "execution_count": 12,
   "id": "necessary-deputy",
   "metadata": {},
   "outputs": [
    {
     "data": {
      "text/plain": [
       "(array([290.,  32.,   9.,   0.,   0.,   1.,   0.,   0.,   0.,   1.]),\n",
       " array([  18.01056468,  596.57327312, 1175.13598155, 1753.69868998,\n",
       "        2332.26139841, 2910.82410684, 3489.38681527, 4067.9495237 ,\n",
       "        4646.51223213, 5225.07494056, 5803.637649  ]),\n",
       " <BarContainer object of 10 artists>)"
      ]
     },
     "execution_count": 12,
     "metadata": {},
     "output_type": "execute_result"
    },
    {
     "data": {
      "image/png": "[encoded data removed]",
      "text/plain": [
       "<Figure size 432x288 with 1 Axes>"
      ]
     },
     "metadata": {
      "needs_background": "light"
     },
     "output_type": "display_data"
    }
   ],
   "source": [
    "# For reasons unknown, we had to important ExactMolWt explicitly.\n",
    "from rdkit.Chem.Descriptors import ExactMolWt\n",
    "MolWts = []\n",
    "for molname, molobj in WHO_Molecules.items():\n",
    "    MolWts.append(ExactMolWt(molobj))\n",
    "plt.hist(MolWts)"
   ]
  },
  {
   "cell_type": "markdown",
   "id": "f38d6cd1",
   "metadata": {},
   "source": [
    "The above histogram was somewhat useful but we didn't get much info on the distribution of molecular weights other than that they are mostly under 1000.  Apparently the list also contains just a few molecules with even larger weights.  How about we plot a histogram with just the weights under 1000?"
   ]
  },
  {
   "cell_type": "code",
   "execution_count": 13,
   "id": "thorough-reform",
   "metadata": {},
   "outputs": [
    {
     "data": {
      "text/plain": [
       "(array([18., 58., 78., 68., 46., 16., 14.,  5.,  9.,  7.]),\n",
       " array([ 18.01056468, 109.06025107, 200.10993746, 291.15962385,\n",
       "        382.20931024, 473.25899663, 564.30868302, 655.35836941,\n",
       "        746.4080558 , 837.45774219, 928.50742858]),\n",
       " <BarContainer object of 10 artists>)"
      ]
     },
     "execution_count": 13,
     "metadata": {},
     "output_type": "execute_result"
    },
    {
     "data": {
      "image/png": "[encoded data removed]",
      "text/plain": [
       "<Figure size 432x288 with 1 Axes>"
      ]
     },
     "metadata": {
      "needs_background": "light"
     },
     "output_type": "display_data"
    }
   ],
   "source": [
    "MolWts = np.array(MolWts)\n",
    "plt.hist(MolWts[np.where(MolWts<1000)])"
   ]
  },
  {
   "cell_type": "markdown",
   "id": "ff621b91",
   "metadata": {},
   "source": [
    "Great, that's a bit more informative.  We could also count the number of carbon atoms in each molecule and see if it's correlated with the molecular weight. After a bit of experimentation I figured out how to get the atomic symbols for an example molecule:"
   ]
  },
  {
   "cell_type": "code",
   "execution_count": 14,
   "id": "physical-delta",
   "metadata": {},
   "outputs": [
    {
     "name": "stdout",
     "output_type": "stream",
     "text": [
      "N\n",
      "C\n",
      "N\n",
      "C\n",
      "N\n",
      "C\n",
      "C\n",
      "C\n",
      "C\n",
      "N\n",
      "C\n",
      "N\n",
      "C\n",
      "C\n",
      "C\n",
      "C\n",
      "O\n",
      "C\n",
      "C\n",
      "C\n",
      "N\n"
     ]
    }
   ],
   "source": [
    "mol_a = WHO_Molecules['abacavir']\n",
    "for atom in mol_a.GetAtoms():\n",
    "    print(atom.GetSymbol())"
   ]
  },
  {
   "cell_type": "code",
   "execution_count": 15,
   "id": "81d21e78",
   "metadata": {},
   "outputs": [
    {
     "data": {
      "text/plain": [
       "(-2.0, 50.0)"
      ]
     },
     "execution_count": 15,
     "metadata": {},
     "output_type": "execute_result"
    },
    {
     "data": {
      "image/png": "[encoded data removed]",
      "text/plain": [
       "<Figure size 432x288 with 1 Axes>"
      ]
     },
     "metadata": {
      "needs_background": "light"
     },
     "output_type": "display_data"
    }
   ],
   "source": [
    "# In Python 3.6 onwards (we are using 3.7 I think), dictionary keys are ordered.\n",
    "# In past versions and possibly other Python implementations, the keys may not be ordered.\n",
    "# Therefore, it is a good idea to make a sorted list of keys before making element-wise\n",
    "# comparisons between properties.\n",
    "NumCarbons = []\n",
    "MolWts = []\n",
    "MolNames = sorted(list(WHO_Molecules.keys()))\n",
    "for molname in MolNames:\n",
    "    molobj = WHO_Molecules[molname]\n",
    "    MolWts.append(ExactMolWt(molobj))\n",
    "    num_C = 0\n",
    "    for atom in molobj.GetAtoms():\n",
    "        if atom.GetSymbol() == 'C':\n",
    "            num_C += 1\n",
    "    NumCarbons.append(num_C)\n",
    "plt.scatter(MolWts, NumCarbons)\n",
    "# I set the plot limits to focus on the MW < 1000 molecules.\n",
    "plt.xlim(0, 1000)\n",
    "plt.ylim(-2, 50)"
   ]
  },
  {
   "cell_type": "markdown",
   "id": "b08435bd",
   "metadata": {},
   "source": [
    "### So far, we have only worked on the SMILES strings. Now let's see how we can incorporate some experimental data. \n",
    "\n",
    "There are lots of kinds of experimental data, and here we will show how to get some crystal structures into the notebook.  This will require doing some work outside of the notebook as well.\n",
    "\n",
    "First, pick a SMILES string of interest. We will look at clomipramine, whose SMILES string is CN(C)CCCN1c2ccccc2CCc3ccc(Cl)cc13 .  You can get the SMILES strings from the .csv file either by opening it directly as a spreadsheet in Excel or other software, or by printing the keys of the `WHO_Molecules` dictionary from above.\n",
    "\n",
    "Connect to \"CCDC Access Structures\" at the link: https://www.ccdc.cam.ac.uk/structures/ .  Make sure you are on campus or using the [library VPN](https://www.library.ucdavis.edu/service/connect-from-off-campus/), otherwise you will hit a paywall at the next step.  \n",
    "\n",
    "![Structure search](https://i.imgur.com/dkbIz0t.png)\n",
    "\n",
    "Click on the \"Structure Search\" tab.  Click the \"Advanced ↓\" button at the lower left.  Click the \"Substructure\" radio button next to \"Match condition:\", and paste the SMILES string for your molecule into the box that says SMARTS.  (SMARTS is a language for searching for molecular structures, and generally a SMILES string is a valid SMARTS string).  You might get an error for SMILES strings that contain \"@\" characters that specify stereochemistry.  In these cases, remove the \"@\" signs from your string using a text editor, or a command line tool such as sed.\n",
    "\n",
    "![Search results](https://i.imgur.com/q1k4J2Z.png)\n",
    "\n",
    "After the search, you should see several results pop up.  Crystal structues often contain more than just the molecule of interest.  For example, the first entry that popped up in my search, which had the identifier BUXKIR, had the molecule of interest inside of a cyclodextrin ring.  Some molecules may be similar but not identical to the molecule you're searching for.  Look for a structure where the details include the name of the drug.  For example, CIMPRA lists \"Chlorimipramine hydrochloride\" under Synonyms, and a quick Wikipedia search shows that Chlorimipramine and clomipramine are synonymous.  That should be close enough for us.  Download the CIF file to your hard drive by clicking Download -> Download Current Entry.  Move the CIF file to the same folder where you have your notebook. \n",
    "\n",
    "Before you can load a structure into RDKit, another cheminformatic tool called OpenBabel is needed to convert the .cif file into a file format that RDKit can read (here we will use .mol2).  In the folder where you have your notebook and the .mol2 file, run OpenBabel in your terminal (not in the notebook!) as follows:\n",
    "\n",
    "```\n",
    "(che155) $ obabel -icif 1125716.cif -omol2 -O 1125716.mol2\n",
    "1 molecule converted\n",
    "```\n",
    "\n",
    "Now you should be able to load the .mol2 file into your notebook.  The default behavior is to remove hydrogen atoms from the structure, so we pass in the keyword argument to keep hydrogens ([see RDKit documentation](https://www.rdkit.org/docs/source/rdkit.Chem.rdmolfiles.html#rdkit.Chem.rdmolfiles.MolFromMol2File).)"
   ]
  },
  {
   "cell_type": "code",
   "execution_count": 16,
   "id": "9ebbe8f7",
   "metadata": {},
   "outputs": [],
   "source": [
    "mol_exp = Chem.MolFromMol2File('1125716.mol2', removeHs=False)"
   ]
  },
  {
   "cell_type": "markdown",
   "id": "f2f61787",
   "metadata": {},
   "source": [
    "We can also use NGLView to show the 3D structure of the molecule here:"
   ]
  },
  {
   "cell_type": "code",
   "execution_count": 17,
   "id": "4e8c2062",
   "metadata": {},
   "outputs": [
    {
     "data": {
      "application/vnd.jupyter.widget-view+json": {
       "model_id": "fcc87546ade84c3da53f866ea5b06b04",
       "version_major": 2,
       "version_minor": 0
      },
      "text/plain": [
       "NGLWidget()"
      ]
     },
     "metadata": {},
     "output_type": "display_data"
    }
   ],
   "source": [
    "nglview.show_rdkit(mol_exp)"
   ]
  },
  {
   "cell_type": "markdown",
   "id": "f920d8d5",
   "metadata": {},
   "source": [
    "An interesting question to ask is, how well does the computationally generated conformation agree with the experimental one?  This touches on the cutting-edge field of crystal structure prediction, which is very important to industry as well as basic science.\n",
    "\n",
    "To look at this, we can create another RDKit molecule object directly from the SMILES string with no additional experimental data, generate a number of conformers, and compare the results to the above.  The API call `AllChem.EmbedMultipleConfs` is how we ask RDKit to generate multiple conformers for a molecule ([see RDKit documentation](https://www.rdkit.org/docs/source/rdkit.Chem.rdDistGeom.html#rdkit.Chem.rdDistGeom.EmbedMultipleConfs).)"
   ]
  },
  {
   "cell_type": "code",
   "execution_count": 18,
   "id": "40e9cde4",
   "metadata": {},
   "outputs": [
    {
     "data": {
      "text/plain": [
       "<rdkit.rdBase._vecti at 0x7f3ace320030>"
      ]
     },
     "execution_count": 18,
     "metadata": {},
     "output_type": "execute_result"
    }
   ],
   "source": [
    "mol_smi = Chem.MolFromSmiles('CN(C)CCCN1c2ccccc2CCc3ccc(Cl)cc13')\n",
    "mol_smi_h = AllChem.AddHs(mol_smi)\n",
    "# The random seed argument is added so that multiple runs will give the same result.\n",
    "AllChem.EmbedMultipleConfs(mol_smi_h, 10, randomSeed=8282)"
   ]
  },
  {
   "cell_type": "markdown",
   "id": "4ea45714",
   "metadata": {},
   "source": [
    "Using NGLView we can visualize each 3D conformation.  The keyword argument for controlling which conformer to show is `conf_id` (I figured this out using `help(nglview.show_rdkit)`).  I don't know whether it's possible change the conformer being viewed with a slider."
   ]
  },
  {
   "cell_type": "code",
   "execution_count": 19,
   "id": "73a92c8c",
   "metadata": {
    "scrolled": true
   },
   "outputs": [
    {
     "data": {
      "application/vnd.jupyter.widget-view+json": {
       "model_id": "4311a5ae9572453b834ea1649f8faf66",
       "version_major": 2,
       "version_minor": 0
      },
      "text/plain": [
       "NGLWidget()"
      ]
     },
     "metadata": {},
     "output_type": "display_data"
    }
   ],
   "source": [
    "nglview.show_rdkit(mol_smi_h, conf_id=3)"
   ]
  },
  {
   "cell_type": "markdown",
   "id": "ccc225e2",
   "metadata": {},
   "source": [
    "A powerful feature of RDKit is the ability to perform structure alignment.  This is a calculation in which the structures of two conformations are compared by applying a translation and rotation to one confomation, called the probe, in order to minimize the distances to a reference conformation.  After applying the rotation and translation, the remaining Euclidean distances between the atoms of the probe and reference structure are a measure of the \"internal\" structural differences due to differences in bond lengths, etc.  By taking the RMS of all the displacements for each atom, one can calculate the \"RMSD\" which is a single number that measures the difference between two structures.\n",
    "\n",
    "In order to rotate two structures to minimize the distances between corresponding atoms, both structures need to have the same atom ordering, which is actually not true for our experimental structure and the generated one.  What's more, the atoms of the probe and reference structure need to be the same, and this is not strictly true for our example either, because our experimental structure is actually a hydrochloride salt, containing an extra HCl that the generated structure doesn't have.  RDKit takes care of both of these problems by finding a substructure that the probe and reference structures have in common; the substructure matching also generates a mapping of the atom orderings between one structure and the other, so we are able to get a result without worryinng."
   ]
  },
  {
   "cell_type": "code",
   "execution_count": 20,
   "id": "71e4c28e",
   "metadata": {},
   "outputs": [
    {
     "name": "stdout",
     "output_type": "stream",
     "text": [
      "1.602497851031555\n",
      "2.632707324279703\n",
      "2.84139227272008\n",
      "2.329167114727071\n",
      "3.0261916639798536\n",
      "3.0747435908293967\n",
      "1.412858791842668\n",
      "2.675587894652636\n",
      "2.2960884334467804\n",
      "3.0856092863330726\n"
     ]
    }
   ],
   "source": [
    "for i in range(mol_smi_h.GetNumConformers()):\n",
    "    print(Chem.rdMolAlign.AlignMol(mol_smi_h, mol_exp, i))"
   ]
  },
  {
   "cell_type": "markdown",
   "id": "42940a97",
   "metadata": {},
   "source": [
    "The interpretation of RMSD depends on the situation, but here we use a very rough rule of thumb that a RMSD value of 1 Angstrom or less indicates a high level of agreement for molecular structures.  Above we see that conformer number 6 has the best level of agreement with experiment.  Let's plot them together to look at how close the structures are.\n",
    "\n",
    "I'd prefer showing the generated conformer in a different color from the experiment, but I don't know how to get NGLView's API to do that.  Bonus points to anyone who manages to figure it out!"
   ]
  },
  {
   "cell_type": "code",
   "execution_count": 22,
   "id": "1a3e684c",
   "metadata": {},
   "outputs": [
    {
     "data": {
      "application/vnd.jupyter.widget-view+json": {
       "model_id": "c951a69aeb56453ba1fc822152f9d934",
       "version_major": 2,
       "version_minor": 0
      },
      "text/plain": [
       "NGLWidget()"
      ]
     },
     "metadata": {},
     "output_type": "display_data"
    }
   ],
   "source": [
    "view = nglview.show_rdkit(mol_smi_h, conf_id=6)\n",
    "view.add_component(mol_exp)\n",
    "view"
   ]
  }
 ],
 "metadata": {
  "kernelspec": {
   "display_name": "Python 3",
   "language": "python",
   "name": "python3"
  },
  "language_info": {
   "codemirror_mode": {
    "name": "ipython",
    "version": 3
   },
   "file_extension": ".py",
   "mimetype": "text/x-python",
   "name": "python",
   "nbconvert_exporter": "python",
   "pygments_lexer": "ipython3",
   "version": "3.7.10"
  }
 },
 "nbformat": 4,
 "nbformat_minor": 5
}
